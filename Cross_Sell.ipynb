{
  "nbformat": 4,
  "nbformat_minor": 0,
  "metadata": {
    "colab": {
      "name": "Cross-Sell.ipynb",
      "provenance": [],
      "collapsed_sections": [],
      "include_colab_link": true
    },
    "kernelspec": {
      "name": "python3",
      "display_name": "Python 3"
    }
  },
  "cells": [
    {
      "cell_type": "markdown",
      "metadata": {
        "id": "view-in-github",
        "colab_type": "text"
      },
      "source": [
        "<a href=\"https://colab.research.google.com/github/Luberr-Dhruv/AV-JanataHack-CrossSell-Prediction/blob/master/Cross_Sell.ipynb\" target=\"_parent\"><img src=\"https://colab.research.google.com/assets/colab-badge.svg\" alt=\"Open In Colab\"/></a>"
      ]
    },
    {
      "cell_type": "code",
      "metadata": {
        "id": "PTLvDGGRtlGp",
        "colab_type": "code",
        "colab": {
          "base_uri": "https://localhost:8080/",
          "height": 34
        },
        "outputId": "ea47d78e-fe7e-4a12-839a-43b097eb3549"
      },
      "source": [
        "from google.colab import drive\n",
        "drive.mount('/gdrive')"
      ],
      "execution_count": null,
      "outputs": [
        {
          "output_type": "stream",
          "text": [
            "Drive already mounted at /gdrive; to attempt to forcibly remount, call drive.mount(\"/gdrive\", force_remount=True).\n"
          ],
          "name": "stdout"
        }
      ]
    },
    {
      "cell_type": "code",
      "metadata": {
        "id": "MhT9JSig54xK",
        "colab_type": "code",
        "colab": {
          "base_uri": "https://localhost:8080/",
          "height": 1000
        },
        "outputId": "8c87d886-0972-443e-a559-58933bce8804"
      },
      "source": [
        "!pip install pandas==1.1.2\n",
        "!pip install pandas-profiling==2.9.0\n",
        "!pip install xgboost==1.2.0\n",
        "!pip install catboost==0.24.1"
      ],
      "execution_count": null,
      "outputs": [
        {
          "output_type": "stream",
          "text": [
            "Requirement already satisfied: pandas==1.1.2 in /usr/local/lib/python3.6/dist-packages (1.1.2)\n",
            "Requirement already satisfied: pytz>=2017.2 in /usr/local/lib/python3.6/dist-packages (from pandas==1.1.2) (2018.9)\n",
            "Requirement already satisfied: python-dateutil>=2.7.3 in /usr/local/lib/python3.6/dist-packages (from pandas==1.1.2) (2.8.1)\n",
            "Requirement already satisfied: numpy>=1.15.4 in /usr/local/lib/python3.6/dist-packages (from pandas==1.1.2) (1.18.5)\n",
            "Requirement already satisfied: six>=1.5 in /usr/local/lib/python3.6/dist-packages (from python-dateutil>=2.7.3->pandas==1.1.2) (1.15.0)\n",
            "Requirement already satisfied: pandas-profiling==2.9.0 in /usr/local/lib/python3.6/dist-packages (2.9.0)\n",
            "Requirement already satisfied: scipy>=1.4.1 in /usr/local/lib/python3.6/dist-packages (from pandas-profiling==2.9.0) (1.4.1)\n",
            "Requirement already satisfied: confuse>=1.0.0 in /usr/local/lib/python3.6/dist-packages (from pandas-profiling==2.9.0) (1.3.0)\n",
            "Requirement already satisfied: tqdm>=4.43.0 in /usr/local/lib/python3.6/dist-packages (from pandas-profiling==2.9.0) (4.49.0)\n",
            "Requirement already satisfied: jinja2>=2.11.1 in /usr/local/lib/python3.6/dist-packages (from pandas-profiling==2.9.0) (2.11.2)\n",
            "Requirement already satisfied: attrs>=19.3.0 in /usr/local/lib/python3.6/dist-packages (from pandas-profiling==2.9.0) (20.2.0)\n",
            "Requirement already satisfied: tangled-up-in-unicode>=0.0.6 in /usr/local/lib/python3.6/dist-packages (from pandas-profiling==2.9.0) (0.0.6)\n",
            "Requirement already satisfied: pandas!=1.0.0,!=1.0.1,!=1.0.2,!=1.1.0,>=0.25.3 in /usr/local/lib/python3.6/dist-packages (from pandas-profiling==2.9.0) (1.1.2)\n",
            "Requirement already satisfied: joblib in /usr/local/lib/python3.6/dist-packages (from pandas-profiling==2.9.0) (0.16.0)\n",
            "Requirement already satisfied: seaborn>=0.10.1 in /usr/local/lib/python3.6/dist-packages (from pandas-profiling==2.9.0) (0.10.1)\n",
            "Requirement already satisfied: requests>=2.23.0 in /usr/local/lib/python3.6/dist-packages (from pandas-profiling==2.9.0) (2.23.0)\n",
            "Requirement already satisfied: numpy>=1.16.0 in /usr/local/lib/python3.6/dist-packages (from pandas-profiling==2.9.0) (1.18.5)\n",
            "Requirement already satisfied: htmlmin>=0.1.12 in /usr/local/lib/python3.6/dist-packages (from pandas-profiling==2.9.0) (0.1.12)\n",
            "Requirement already satisfied: ipywidgets>=7.5.1 in /usr/local/lib/python3.6/dist-packages (from pandas-profiling==2.9.0) (7.5.1)\n",
            "Requirement already satisfied: phik>=0.9.10 in /usr/local/lib/python3.6/dist-packages (from pandas-profiling==2.9.0) (0.10.0)\n",
            "Requirement already satisfied: matplotlib>=3.2.0 in /usr/local/lib/python3.6/dist-packages (from pandas-profiling==2.9.0) (3.2.2)\n",
            "Requirement already satisfied: visions[type_image_path]==0.5.0 in /usr/local/lib/python3.6/dist-packages (from pandas-profiling==2.9.0) (0.5.0)\n",
            "Requirement already satisfied: missingno>=0.4.2 in /usr/local/lib/python3.6/dist-packages (from pandas-profiling==2.9.0) (0.4.2)\n",
            "Requirement already satisfied: pyyaml in /usr/local/lib/python3.6/dist-packages (from confuse>=1.0.0->pandas-profiling==2.9.0) (3.13)\n",
            "Requirement already satisfied: MarkupSafe>=0.23 in /usr/local/lib/python3.6/dist-packages (from jinja2>=2.11.1->pandas-profiling==2.9.0) (1.1.1)\n",
            "Requirement already satisfied: python-dateutil>=2.7.3 in /usr/local/lib/python3.6/dist-packages (from pandas!=1.0.0,!=1.0.1,!=1.0.2,!=1.1.0,>=0.25.3->pandas-profiling==2.9.0) (2.8.1)\n",
            "Requirement already satisfied: pytz>=2017.2 in /usr/local/lib/python3.6/dist-packages (from pandas!=1.0.0,!=1.0.1,!=1.0.2,!=1.1.0,>=0.25.3->pandas-profiling==2.9.0) (2018.9)\n",
            "Requirement already satisfied: urllib3!=1.25.0,!=1.25.1,<1.26,>=1.21.1 in /usr/local/lib/python3.6/dist-packages (from requests>=2.23.0->pandas-profiling==2.9.0) (1.24.3)\n",
            "Requirement already satisfied: chardet<4,>=3.0.2 in /usr/local/lib/python3.6/dist-packages (from requests>=2.23.0->pandas-profiling==2.9.0) (3.0.4)\n",
            "Requirement already satisfied: certifi>=2017.4.17 in /usr/local/lib/python3.6/dist-packages (from requests>=2.23.0->pandas-profiling==2.9.0) (2020.6.20)\n",
            "Requirement already satisfied: idna<3,>=2.5 in /usr/local/lib/python3.6/dist-packages (from requests>=2.23.0->pandas-profiling==2.9.0) (2.10)\n",
            "Requirement already satisfied: nbformat>=4.2.0 in /usr/local/lib/python3.6/dist-packages (from ipywidgets>=7.5.1->pandas-profiling==2.9.0) (5.0.7)\n",
            "Requirement already satisfied: widgetsnbextension~=3.5.0 in /usr/local/lib/python3.6/dist-packages (from ipywidgets>=7.5.1->pandas-profiling==2.9.0) (3.5.1)\n",
            "Requirement already satisfied: ipykernel>=4.5.1 in /usr/local/lib/python3.6/dist-packages (from ipywidgets>=7.5.1->pandas-profiling==2.9.0) (4.10.1)\n",
            "Requirement already satisfied: traitlets>=4.3.1 in /usr/local/lib/python3.6/dist-packages (from ipywidgets>=7.5.1->pandas-profiling==2.9.0) (4.3.3)\n",
            "Requirement already satisfied: ipython>=4.0.0; python_version >= \"3.3\" in /usr/local/lib/python3.6/dist-packages (from ipywidgets>=7.5.1->pandas-profiling==2.9.0) (5.5.0)\n",
            "Requirement already satisfied: numba>=0.38.1 in /usr/local/lib/python3.6/dist-packages (from phik>=0.9.10->pandas-profiling==2.9.0) (0.48.0)\n",
            "Requirement already satisfied: kiwisolver>=1.0.1 in /usr/local/lib/python3.6/dist-packages (from matplotlib>=3.2.0->pandas-profiling==2.9.0) (1.2.0)\n",
            "Requirement already satisfied: cycler>=0.10 in /usr/local/lib/python3.6/dist-packages (from matplotlib>=3.2.0->pandas-profiling==2.9.0) (0.10.0)\n",
            "Requirement already satisfied: pyparsing!=2.0.4,!=2.1.2,!=2.1.6,>=2.0.1 in /usr/local/lib/python3.6/dist-packages (from matplotlib>=3.2.0->pandas-profiling==2.9.0) (2.4.7)\n",
            "Requirement already satisfied: networkx>=2.4 in /usr/local/lib/python3.6/dist-packages (from visions[type_image_path]==0.5.0->pandas-profiling==2.9.0) (2.5)\n",
            "Requirement already satisfied: Pillow; extra == \"type_image_path\" in /usr/local/lib/python3.6/dist-packages (from visions[type_image_path]==0.5.0->pandas-profiling==2.9.0) (7.0.0)\n",
            "Requirement already satisfied: imagehash; extra == \"type_image_path\" in /usr/local/lib/python3.6/dist-packages (from visions[type_image_path]==0.5.0->pandas-profiling==2.9.0) (4.1.0)\n",
            "Requirement already satisfied: six>=1.5 in /usr/local/lib/python3.6/dist-packages (from python-dateutil>=2.7.3->pandas!=1.0.0,!=1.0.1,!=1.0.2,!=1.1.0,>=0.25.3->pandas-profiling==2.9.0) (1.15.0)\n",
            "Requirement already satisfied: jupyter-core in /usr/local/lib/python3.6/dist-packages (from nbformat>=4.2.0->ipywidgets>=7.5.1->pandas-profiling==2.9.0) (4.6.3)\n",
            "Requirement already satisfied: ipython-genutils in /usr/local/lib/python3.6/dist-packages (from nbformat>=4.2.0->ipywidgets>=7.5.1->pandas-profiling==2.9.0) (0.2.0)\n",
            "Requirement already satisfied: jsonschema!=2.5.0,>=2.4 in /usr/local/lib/python3.6/dist-packages (from nbformat>=4.2.0->ipywidgets>=7.5.1->pandas-profiling==2.9.0) (2.6.0)\n",
            "Requirement already satisfied: notebook>=4.4.1 in /usr/local/lib/python3.6/dist-packages (from widgetsnbextension~=3.5.0->ipywidgets>=7.5.1->pandas-profiling==2.9.0) (5.3.1)\n",
            "Requirement already satisfied: jupyter-client in /usr/local/lib/python3.6/dist-packages (from ipykernel>=4.5.1->ipywidgets>=7.5.1->pandas-profiling==2.9.0) (5.3.5)\n",
            "Requirement already satisfied: tornado>=4.0 in /usr/local/lib/python3.6/dist-packages (from ipykernel>=4.5.1->ipywidgets>=7.5.1->pandas-profiling==2.9.0) (5.1.1)\n",
            "Requirement already satisfied: decorator in /usr/local/lib/python3.6/dist-packages (from traitlets>=4.3.1->ipywidgets>=7.5.1->pandas-profiling==2.9.0) (4.4.2)\n",
            "Requirement already satisfied: pickleshare in /usr/local/lib/python3.6/dist-packages (from ipython>=4.0.0; python_version >= \"3.3\"->ipywidgets>=7.5.1->pandas-profiling==2.9.0) (0.7.5)\n",
            "Requirement already satisfied: prompt-toolkit<2.0.0,>=1.0.4 in /usr/local/lib/python3.6/dist-packages (from ipython>=4.0.0; python_version >= \"3.3\"->ipywidgets>=7.5.1->pandas-profiling==2.9.0) (1.0.18)\n",
            "Requirement already satisfied: simplegeneric>0.8 in /usr/local/lib/python3.6/dist-packages (from ipython>=4.0.0; python_version >= \"3.3\"->ipywidgets>=7.5.1->pandas-profiling==2.9.0) (0.8.1)\n",
            "Requirement already satisfied: setuptools>=18.5 in /usr/local/lib/python3.6/dist-packages (from ipython>=4.0.0; python_version >= \"3.3\"->ipywidgets>=7.5.1->pandas-profiling==2.9.0) (50.3.0)\n",
            "Requirement already satisfied: pexpect; sys_platform != \"win32\" in /usr/local/lib/python3.6/dist-packages (from ipython>=4.0.0; python_version >= \"3.3\"->ipywidgets>=7.5.1->pandas-profiling==2.9.0) (4.8.0)\n",
            "Requirement already satisfied: pygments in /usr/local/lib/python3.6/dist-packages (from ipython>=4.0.0; python_version >= \"3.3\"->ipywidgets>=7.5.1->pandas-profiling==2.9.0) (2.6.1)\n",
            "Requirement already satisfied: llvmlite<0.32.0,>=0.31.0dev0 in /usr/local/lib/python3.6/dist-packages (from numba>=0.38.1->phik>=0.9.10->pandas-profiling==2.9.0) (0.31.0)\n",
            "Requirement already satisfied: PyWavelets in /usr/local/lib/python3.6/dist-packages (from imagehash; extra == \"type_image_path\"->visions[type_image_path]==0.5.0->pandas-profiling==2.9.0) (1.1.1)\n",
            "Requirement already satisfied: Send2Trash in /usr/local/lib/python3.6/dist-packages (from notebook>=4.4.1->widgetsnbextension~=3.5.0->ipywidgets>=7.5.1->pandas-profiling==2.9.0) (1.5.0)\n",
            "Requirement already satisfied: terminado>=0.8.1 in /usr/local/lib/python3.6/dist-packages (from notebook>=4.4.1->widgetsnbextension~=3.5.0->ipywidgets>=7.5.1->pandas-profiling==2.9.0) (0.8.3)\n",
            "Requirement already satisfied: nbconvert in /usr/local/lib/python3.6/dist-packages (from notebook>=4.4.1->widgetsnbextension~=3.5.0->ipywidgets>=7.5.1->pandas-profiling==2.9.0) (5.6.1)\n",
            "Requirement already satisfied: pyzmq>=13 in /usr/local/lib/python3.6/dist-packages (from jupyter-client->ipykernel>=4.5.1->ipywidgets>=7.5.1->pandas-profiling==2.9.0) (19.0.2)\n",
            "Requirement already satisfied: wcwidth in /usr/local/lib/python3.6/dist-packages (from prompt-toolkit<2.0.0,>=1.0.4->ipython>=4.0.0; python_version >= \"3.3\"->ipywidgets>=7.5.1->pandas-profiling==2.9.0) (0.2.5)\n",
            "Requirement already satisfied: ptyprocess>=0.5 in /usr/local/lib/python3.6/dist-packages (from pexpect; sys_platform != \"win32\"->ipython>=4.0.0; python_version >= \"3.3\"->ipywidgets>=7.5.1->pandas-profiling==2.9.0) (0.6.0)\n",
            "Requirement already satisfied: entrypoints>=0.2.2 in /usr/local/lib/python3.6/dist-packages (from nbconvert->notebook>=4.4.1->widgetsnbextension~=3.5.0->ipywidgets>=7.5.1->pandas-profiling==2.9.0) (0.3)\n",
            "Requirement already satisfied: bleach in /usr/local/lib/python3.6/dist-packages (from nbconvert->notebook>=4.4.1->widgetsnbextension~=3.5.0->ipywidgets>=7.5.1->pandas-profiling==2.9.0) (3.1.5)\n",
            "Requirement already satisfied: pandocfilters>=1.4.1 in /usr/local/lib/python3.6/dist-packages (from nbconvert->notebook>=4.4.1->widgetsnbextension~=3.5.0->ipywidgets>=7.5.1->pandas-profiling==2.9.0) (1.4.2)\n",
            "Requirement already satisfied: mistune<2,>=0.8.1 in /usr/local/lib/python3.6/dist-packages (from nbconvert->notebook>=4.4.1->widgetsnbextension~=3.5.0->ipywidgets>=7.5.1->pandas-profiling==2.9.0) (0.8.4)\n",
            "Requirement already satisfied: testpath in /usr/local/lib/python3.6/dist-packages (from nbconvert->notebook>=4.4.1->widgetsnbextension~=3.5.0->ipywidgets>=7.5.1->pandas-profiling==2.9.0) (0.4.4)\n",
            "Requirement already satisfied: defusedxml in /usr/local/lib/python3.6/dist-packages (from nbconvert->notebook>=4.4.1->widgetsnbextension~=3.5.0->ipywidgets>=7.5.1->pandas-profiling==2.9.0) (0.6.0)\n",
            "Requirement already satisfied: webencodings in /usr/local/lib/python3.6/dist-packages (from bleach->nbconvert->notebook>=4.4.1->widgetsnbextension~=3.5.0->ipywidgets>=7.5.1->pandas-profiling==2.9.0) (0.5.1)\n",
            "Requirement already satisfied: packaging in /usr/local/lib/python3.6/dist-packages (from bleach->nbconvert->notebook>=4.4.1->widgetsnbextension~=3.5.0->ipywidgets>=7.5.1->pandas-profiling==2.9.0) (20.4)\n",
            "Requirement already satisfied: xgboost==1.2.0 in /usr/local/lib/python3.6/dist-packages (1.2.0)\n",
            "Requirement already satisfied: scipy in /usr/local/lib/python3.6/dist-packages (from xgboost==1.2.0) (1.4.1)\n",
            "Requirement already satisfied: numpy in /usr/local/lib/python3.6/dist-packages (from xgboost==1.2.0) (1.18.5)\n",
            "Requirement already satisfied: catboost==0.24.1 in /usr/local/lib/python3.6/dist-packages (0.24.1)\n",
            "Requirement already satisfied: pandas>=0.24.0 in /usr/local/lib/python3.6/dist-packages (from catboost==0.24.1) (1.1.2)\n",
            "Requirement already satisfied: matplotlib in /usr/local/lib/python3.6/dist-packages (from catboost==0.24.1) (3.2.2)\n",
            "Requirement already satisfied: numpy>=1.16.0 in /usr/local/lib/python3.6/dist-packages (from catboost==0.24.1) (1.18.5)\n",
            "Requirement already satisfied: graphviz in /usr/local/lib/python3.6/dist-packages (from catboost==0.24.1) (0.10.1)\n",
            "Requirement already satisfied: plotly in /usr/local/lib/python3.6/dist-packages (from catboost==0.24.1) (4.4.1)\n",
            "Requirement already satisfied: scipy in /usr/local/lib/python3.6/dist-packages (from catboost==0.24.1) (1.4.1)\n",
            "Requirement already satisfied: six in /usr/local/lib/python3.6/dist-packages (from catboost==0.24.1) (1.15.0)\n",
            "Requirement already satisfied: pytz>=2017.2 in /usr/local/lib/python3.6/dist-packages (from pandas>=0.24.0->catboost==0.24.1) (2018.9)\n",
            "Requirement already satisfied: python-dateutil>=2.7.3 in /usr/local/lib/python3.6/dist-packages (from pandas>=0.24.0->catboost==0.24.1) (2.8.1)\n",
            "Requirement already satisfied: kiwisolver>=1.0.1 in /usr/local/lib/python3.6/dist-packages (from matplotlib->catboost==0.24.1) (1.2.0)\n",
            "Requirement already satisfied: cycler>=0.10 in /usr/local/lib/python3.6/dist-packages (from matplotlib->catboost==0.24.1) (0.10.0)\n",
            "Requirement already satisfied: pyparsing!=2.0.4,!=2.1.2,!=2.1.6,>=2.0.1 in /usr/local/lib/python3.6/dist-packages (from matplotlib->catboost==0.24.1) (2.4.7)\n",
            "Requirement already satisfied: retrying>=1.3.3 in /usr/local/lib/python3.6/dist-packages (from plotly->catboost==0.24.1) (1.3.3)\n"
          ],
          "name": "stdout"
        }
      ]
    },
    {
      "cell_type": "code",
      "metadata": {
        "id": "_yTRKRgeuLWf",
        "colab_type": "code",
        "colab": {
          "base_uri": "https://localhost:8080/",
          "height": 52
        },
        "outputId": "f61673ac-c666-4573-dfe0-23791d9c20d6"
      },
      "source": [
        "import pandas as pd\n",
        "import numpy as np\n",
        "import pandas_profiling\n",
        "from pandas_profiling import ProfileReport\n",
        "import matplotlib.pyplot as plt\n",
        "import seaborn as sns\n",
        "import re\n",
        "import sklearn"
      ],
      "execution_count": null,
      "outputs": [
        {
          "output_type": "stream",
          "text": [
            "/usr/local/lib/python3.6/dist-packages/statsmodels/tools/_testing.py:19: FutureWarning: pandas.util.testing is deprecated. Use the functions in the public API at pandas.testing instead.\n",
            "  import pandas.util.testing as tm\n"
          ],
          "name": "stderr"
        }
      ]
    },
    {
      "cell_type": "code",
      "metadata": {
        "id": "6Do0GQ5U5rrX",
        "colab_type": "code",
        "colab": {
          "base_uri": "https://localhost:8080/",
          "height": 35
        },
        "outputId": "94d9e0ec-41c0-4c4e-de72-67b2d7b6e7ec"
      },
      "source": [
        "pd.__version__"
      ],
      "execution_count": null,
      "outputs": [
        {
          "output_type": "execute_result",
          "data": {
            "application/vnd.google.colaboratory.intrinsic+json": {
              "type": "string"
            },
            "text/plain": [
              "'1.1.2'"
            ]
          },
          "metadata": {
            "tags": []
          },
          "execution_count": 4
        }
      ]
    },
    {
      "cell_type": "code",
      "metadata": {
        "id": "YHE2tRzTuOVS",
        "colab_type": "code",
        "colab": {
          "base_uri": "https://localhost:8080/",
          "height": 197
        },
        "outputId": "91340756-232b-4c98-e80e-01cd1d4be0e3"
      },
      "source": [
        "path = '/gdrive/My Drive/Datasets/'\n",
        "train = pd.read_csv(path + 'JH (Cross-Sell) train.csv')\n",
        "train.head()"
      ],
      "execution_count": null,
      "outputs": [
        {
          "output_type": "execute_result",
          "data": {
            "text/html": [
              "<div>\n",
              "<style scoped>\n",
              "    .dataframe tbody tr th:only-of-type {\n",
              "        vertical-align: middle;\n",
              "    }\n",
              "\n",
              "    .dataframe tbody tr th {\n",
              "        vertical-align: top;\n",
              "    }\n",
              "\n",
              "    .dataframe thead th {\n",
              "        text-align: right;\n",
              "    }\n",
              "</style>\n",
              "<table border=\"1\" class=\"dataframe\">\n",
              "  <thead>\n",
              "    <tr style=\"text-align: right;\">\n",
              "      <th></th>\n",
              "      <th>id</th>\n",
              "      <th>Gender</th>\n",
              "      <th>Age</th>\n",
              "      <th>Driving_License</th>\n",
              "      <th>Region_Code</th>\n",
              "      <th>Previously_Insured</th>\n",
              "      <th>Vehicle_Age</th>\n",
              "      <th>Vehicle_Damage</th>\n",
              "      <th>Annual_Premium</th>\n",
              "      <th>Policy_Sales_Channel</th>\n",
              "      <th>Vintage</th>\n",
              "      <th>Response</th>\n",
              "    </tr>\n",
              "  </thead>\n",
              "  <tbody>\n",
              "    <tr>\n",
              "      <th>0</th>\n",
              "      <td>1</td>\n",
              "      <td>Male</td>\n",
              "      <td>44</td>\n",
              "      <td>1</td>\n",
              "      <td>28.0</td>\n",
              "      <td>0</td>\n",
              "      <td>&gt; 2 Years</td>\n",
              "      <td>Yes</td>\n",
              "      <td>40454.0</td>\n",
              "      <td>26.0</td>\n",
              "      <td>217</td>\n",
              "      <td>1</td>\n",
              "    </tr>\n",
              "    <tr>\n",
              "      <th>1</th>\n",
              "      <td>2</td>\n",
              "      <td>Male</td>\n",
              "      <td>76</td>\n",
              "      <td>1</td>\n",
              "      <td>3.0</td>\n",
              "      <td>0</td>\n",
              "      <td>1-2 Year</td>\n",
              "      <td>No</td>\n",
              "      <td>33536.0</td>\n",
              "      <td>26.0</td>\n",
              "      <td>183</td>\n",
              "      <td>0</td>\n",
              "    </tr>\n",
              "    <tr>\n",
              "      <th>2</th>\n",
              "      <td>3</td>\n",
              "      <td>Male</td>\n",
              "      <td>47</td>\n",
              "      <td>1</td>\n",
              "      <td>28.0</td>\n",
              "      <td>0</td>\n",
              "      <td>&gt; 2 Years</td>\n",
              "      <td>Yes</td>\n",
              "      <td>38294.0</td>\n",
              "      <td>26.0</td>\n",
              "      <td>27</td>\n",
              "      <td>1</td>\n",
              "    </tr>\n",
              "    <tr>\n",
              "      <th>3</th>\n",
              "      <td>4</td>\n",
              "      <td>Male</td>\n",
              "      <td>21</td>\n",
              "      <td>1</td>\n",
              "      <td>11.0</td>\n",
              "      <td>1</td>\n",
              "      <td>&lt; 1 Year</td>\n",
              "      <td>No</td>\n",
              "      <td>28619.0</td>\n",
              "      <td>152.0</td>\n",
              "      <td>203</td>\n",
              "      <td>0</td>\n",
              "    </tr>\n",
              "    <tr>\n",
              "      <th>4</th>\n",
              "      <td>5</td>\n",
              "      <td>Female</td>\n",
              "      <td>29</td>\n",
              "      <td>1</td>\n",
              "      <td>41.0</td>\n",
              "      <td>1</td>\n",
              "      <td>&lt; 1 Year</td>\n",
              "      <td>No</td>\n",
              "      <td>27496.0</td>\n",
              "      <td>152.0</td>\n",
              "      <td>39</td>\n",
              "      <td>0</td>\n",
              "    </tr>\n",
              "  </tbody>\n",
              "</table>\n",
              "</div>"
            ],
            "text/plain": [
              "   id  Gender  Age  ...  Policy_Sales_Channel  Vintage  Response\n",
              "0   1    Male   44  ...                  26.0      217         1\n",
              "1   2    Male   76  ...                  26.0      183         0\n",
              "2   3    Male   47  ...                  26.0       27         1\n",
              "3   4    Male   21  ...                 152.0      203         0\n",
              "4   5  Female   29  ...                 152.0       39         0\n",
              "\n",
              "[5 rows x 12 columns]"
            ]
          },
          "metadata": {
            "tags": []
          },
          "execution_count": 5
        }
      ]
    },
    {
      "cell_type": "code",
      "metadata": {
        "id": "3DwkxCwIudJL",
        "colab_type": "code",
        "colab": {
          "base_uri": "https://localhost:8080/",
          "height": 247
        },
        "outputId": "629c828c-2460-4d4b-d9f2-14a0c60fb3f3"
      },
      "source": [
        "train.isnull().sum()"
      ],
      "execution_count": null,
      "outputs": [
        {
          "output_type": "execute_result",
          "data": {
            "text/plain": [
              "id                      0\n",
              "Gender                  0\n",
              "Age                     0\n",
              "Driving_License         0\n",
              "Region_Code             0\n",
              "Previously_Insured      0\n",
              "Vehicle_Age             0\n",
              "Vehicle_Damage          0\n",
              "Annual_Premium          0\n",
              "Policy_Sales_Channel    0\n",
              "Vintage                 0\n",
              "Response                0\n",
              "dtype: int64"
            ]
          },
          "metadata": {
            "tags": []
          },
          "execution_count": 6
        }
      ]
    },
    {
      "cell_type": "code",
      "metadata": {
        "id": "3x00Lf79uvq7",
        "colab_type": "code",
        "colab": {
          "base_uri": "https://localhost:8080/",
          "height": 247
        },
        "outputId": "9b0edfea-d53e-4135-f87d-27079ea434b1"
      },
      "source": [
        "bftype = train.dtypes\n",
        "bftype"
      ],
      "execution_count": null,
      "outputs": [
        {
          "output_type": "execute_result",
          "data": {
            "text/plain": [
              "id                        int64\n",
              "Gender                   object\n",
              "Age                       int64\n",
              "Driving_License           int64\n",
              "Region_Code             float64\n",
              "Previously_Insured        int64\n",
              "Vehicle_Age              object\n",
              "Vehicle_Damage           object\n",
              "Annual_Premium          float64\n",
              "Policy_Sales_Channel    float64\n",
              "Vintage                   int64\n",
              "Response                  int64\n",
              "dtype: object"
            ]
          },
          "metadata": {
            "tags": []
          },
          "execution_count": 7
        }
      ]
    },
    {
      "cell_type": "code",
      "metadata": {
        "id": "eAa_vxLvu1m4",
        "colab_type": "code",
        "colab": {
          "base_uri": "https://localhost:8080/",
          "height": 34
        },
        "outputId": "2f4c7e4b-d614-4a7a-8e49-75106b8fa4c3"
      },
      "source": [
        "IDcol = train['id'].astype('int32').dtypes\n",
        "IDcol.type"
      ],
      "execution_count": null,
      "outputs": [
        {
          "output_type": "execute_result",
          "data": {
            "text/plain": [
              "numpy.int32"
            ]
          },
          "metadata": {
            "tags": []
          },
          "execution_count": 8
        }
      ]
    },
    {
      "cell_type": "code",
      "metadata": {
        "id": "6PuGwTIRvs1G",
        "colab_type": "code",
        "colab": {}
      },
      "source": [
        "train = train.drop(columns= ['id'])\n",
        "train.head()\n",
        "y = train['Response']\n",
        "train = train.drop(columns = ['Response'])"
      ],
      "execution_count": null,
      "outputs": []
    },
    {
      "cell_type": "code",
      "metadata": {
        "id": "nl42il0WwSPX",
        "colab_type": "code",
        "colab": {
          "base_uri": "https://localhost:8080/",
          "height": 212
        },
        "outputId": "0bb14e5c-5c84-4e67-b222-6f1679127f0e"
      },
      "source": [
        "train.count()"
      ],
      "execution_count": null,
      "outputs": [
        {
          "output_type": "execute_result",
          "data": {
            "text/plain": [
              "Gender                  381109\n",
              "Age                     381109\n",
              "Driving_License         381109\n",
              "Region_Code             381109\n",
              "Previously_Insured      381109\n",
              "Vehicle_Age             381109\n",
              "Vehicle_Damage          381109\n",
              "Annual_Premium          381109\n",
              "Policy_Sales_Channel    381109\n",
              "Vintage                 381109\n",
              "dtype: int64"
            ]
          },
          "metadata": {
            "tags": []
          },
          "execution_count": 10
        }
      ]
    },
    {
      "cell_type": "code",
      "metadata": {
        "id": "RLtRjF2rxNB2",
        "colab_type": "code",
        "colab": {
          "base_uri": "https://localhost:8080/",
          "height": 197
        },
        "outputId": "81b76061-ca01-48bd-c76c-cb1fba8fa2b3"
      },
      "source": [
        "from sklearn.preprocessing import LabelEncoder\n",
        "\n",
        "lbg = sklearn.preprocessing.LabelEncoder()\n",
        "train[\"Gender\"] = lbg.fit_transform(train[\"Gender\"])\n",
        "\n",
        "train.head()"
      ],
      "execution_count": null,
      "outputs": [
        {
          "output_type": "execute_result",
          "data": {
            "text/html": [
              "<div>\n",
              "<style scoped>\n",
              "    .dataframe tbody tr th:only-of-type {\n",
              "        vertical-align: middle;\n",
              "    }\n",
              "\n",
              "    .dataframe tbody tr th {\n",
              "        vertical-align: top;\n",
              "    }\n",
              "\n",
              "    .dataframe thead th {\n",
              "        text-align: right;\n",
              "    }\n",
              "</style>\n",
              "<table border=\"1\" class=\"dataframe\">\n",
              "  <thead>\n",
              "    <tr style=\"text-align: right;\">\n",
              "      <th></th>\n",
              "      <th>Gender</th>\n",
              "      <th>Age</th>\n",
              "      <th>Driving_License</th>\n",
              "      <th>Region_Code</th>\n",
              "      <th>Previously_Insured</th>\n",
              "      <th>Vehicle_Age</th>\n",
              "      <th>Vehicle_Damage</th>\n",
              "      <th>Annual_Premium</th>\n",
              "      <th>Policy_Sales_Channel</th>\n",
              "      <th>Vintage</th>\n",
              "    </tr>\n",
              "  </thead>\n",
              "  <tbody>\n",
              "    <tr>\n",
              "      <th>0</th>\n",
              "      <td>1</td>\n",
              "      <td>44</td>\n",
              "      <td>1</td>\n",
              "      <td>28.0</td>\n",
              "      <td>0</td>\n",
              "      <td>&gt; 2 Years</td>\n",
              "      <td>Yes</td>\n",
              "      <td>40454.0</td>\n",
              "      <td>26.0</td>\n",
              "      <td>217</td>\n",
              "    </tr>\n",
              "    <tr>\n",
              "      <th>1</th>\n",
              "      <td>1</td>\n",
              "      <td>76</td>\n",
              "      <td>1</td>\n",
              "      <td>3.0</td>\n",
              "      <td>0</td>\n",
              "      <td>1-2 Year</td>\n",
              "      <td>No</td>\n",
              "      <td>33536.0</td>\n",
              "      <td>26.0</td>\n",
              "      <td>183</td>\n",
              "    </tr>\n",
              "    <tr>\n",
              "      <th>2</th>\n",
              "      <td>1</td>\n",
              "      <td>47</td>\n",
              "      <td>1</td>\n",
              "      <td>28.0</td>\n",
              "      <td>0</td>\n",
              "      <td>&gt; 2 Years</td>\n",
              "      <td>Yes</td>\n",
              "      <td>38294.0</td>\n",
              "      <td>26.0</td>\n",
              "      <td>27</td>\n",
              "    </tr>\n",
              "    <tr>\n",
              "      <th>3</th>\n",
              "      <td>1</td>\n",
              "      <td>21</td>\n",
              "      <td>1</td>\n",
              "      <td>11.0</td>\n",
              "      <td>1</td>\n",
              "      <td>&lt; 1 Year</td>\n",
              "      <td>No</td>\n",
              "      <td>28619.0</td>\n",
              "      <td>152.0</td>\n",
              "      <td>203</td>\n",
              "    </tr>\n",
              "    <tr>\n",
              "      <th>4</th>\n",
              "      <td>0</td>\n",
              "      <td>29</td>\n",
              "      <td>1</td>\n",
              "      <td>41.0</td>\n",
              "      <td>1</td>\n",
              "      <td>&lt; 1 Year</td>\n",
              "      <td>No</td>\n",
              "      <td>27496.0</td>\n",
              "      <td>152.0</td>\n",
              "      <td>39</td>\n",
              "    </tr>\n",
              "  </tbody>\n",
              "</table>\n",
              "</div>"
            ],
            "text/plain": [
              "   Gender  Age  Driving_License  ...  Annual_Premium  Policy_Sales_Channel Vintage\n",
              "0       1   44                1  ...         40454.0                  26.0     217\n",
              "1       1   76                1  ...         33536.0                  26.0     183\n",
              "2       1   47                1  ...         38294.0                  26.0      27\n",
              "3       1   21                1  ...         28619.0                 152.0     203\n",
              "4       0   29                1  ...         27496.0                 152.0      39\n",
              "\n",
              "[5 rows x 10 columns]"
            ]
          },
          "metadata": {
            "tags": []
          },
          "execution_count": 11
        }
      ]
    },
    {
      "cell_type": "code",
      "metadata": {
        "id": "BLqT3gqNy5UX",
        "colab_type": "code",
        "colab": {
          "base_uri": "https://localhost:8080/",
          "height": 197
        },
        "outputId": "1ff8cca3-ae57-4877-de49-d1059a159f56"
      },
      "source": [
        "lbva = sklearn.preprocessing.LabelEncoder()\n",
        "train[\"Vehicle_Age\"] = lbva.fit_transform(train[\"Vehicle_Age\"])\n",
        "\n",
        "train.head()"
      ],
      "execution_count": null,
      "outputs": [
        {
          "output_type": "execute_result",
          "data": {
            "text/html": [
              "<div>\n",
              "<style scoped>\n",
              "    .dataframe tbody tr th:only-of-type {\n",
              "        vertical-align: middle;\n",
              "    }\n",
              "\n",
              "    .dataframe tbody tr th {\n",
              "        vertical-align: top;\n",
              "    }\n",
              "\n",
              "    .dataframe thead th {\n",
              "        text-align: right;\n",
              "    }\n",
              "</style>\n",
              "<table border=\"1\" class=\"dataframe\">\n",
              "  <thead>\n",
              "    <tr style=\"text-align: right;\">\n",
              "      <th></th>\n",
              "      <th>Gender</th>\n",
              "      <th>Age</th>\n",
              "      <th>Driving_License</th>\n",
              "      <th>Region_Code</th>\n",
              "      <th>Previously_Insured</th>\n",
              "      <th>Vehicle_Age</th>\n",
              "      <th>Vehicle_Damage</th>\n",
              "      <th>Annual_Premium</th>\n",
              "      <th>Policy_Sales_Channel</th>\n",
              "      <th>Vintage</th>\n",
              "    </tr>\n",
              "  </thead>\n",
              "  <tbody>\n",
              "    <tr>\n",
              "      <th>0</th>\n",
              "      <td>1</td>\n",
              "      <td>44</td>\n",
              "      <td>1</td>\n",
              "      <td>28.0</td>\n",
              "      <td>0</td>\n",
              "      <td>2</td>\n",
              "      <td>Yes</td>\n",
              "      <td>40454.0</td>\n",
              "      <td>26.0</td>\n",
              "      <td>217</td>\n",
              "    </tr>\n",
              "    <tr>\n",
              "      <th>1</th>\n",
              "      <td>1</td>\n",
              "      <td>76</td>\n",
              "      <td>1</td>\n",
              "      <td>3.0</td>\n",
              "      <td>0</td>\n",
              "      <td>0</td>\n",
              "      <td>No</td>\n",
              "      <td>33536.0</td>\n",
              "      <td>26.0</td>\n",
              "      <td>183</td>\n",
              "    </tr>\n",
              "    <tr>\n",
              "      <th>2</th>\n",
              "      <td>1</td>\n",
              "      <td>47</td>\n",
              "      <td>1</td>\n",
              "      <td>28.0</td>\n",
              "      <td>0</td>\n",
              "      <td>2</td>\n",
              "      <td>Yes</td>\n",
              "      <td>38294.0</td>\n",
              "      <td>26.0</td>\n",
              "      <td>27</td>\n",
              "    </tr>\n",
              "    <tr>\n",
              "      <th>3</th>\n",
              "      <td>1</td>\n",
              "      <td>21</td>\n",
              "      <td>1</td>\n",
              "      <td>11.0</td>\n",
              "      <td>1</td>\n",
              "      <td>1</td>\n",
              "      <td>No</td>\n",
              "      <td>28619.0</td>\n",
              "      <td>152.0</td>\n",
              "      <td>203</td>\n",
              "    </tr>\n",
              "    <tr>\n",
              "      <th>4</th>\n",
              "      <td>0</td>\n",
              "      <td>29</td>\n",
              "      <td>1</td>\n",
              "      <td>41.0</td>\n",
              "      <td>1</td>\n",
              "      <td>1</td>\n",
              "      <td>No</td>\n",
              "      <td>27496.0</td>\n",
              "      <td>152.0</td>\n",
              "      <td>39</td>\n",
              "    </tr>\n",
              "  </tbody>\n",
              "</table>\n",
              "</div>"
            ],
            "text/plain": [
              "   Gender  Age  Driving_License  ...  Annual_Premium  Policy_Sales_Channel  Vintage\n",
              "0       1   44                1  ...         40454.0                  26.0      217\n",
              "1       1   76                1  ...         33536.0                  26.0      183\n",
              "2       1   47                1  ...         38294.0                  26.0       27\n",
              "3       1   21                1  ...         28619.0                 152.0      203\n",
              "4       0   29                1  ...         27496.0                 152.0       39\n",
              "\n",
              "[5 rows x 10 columns]"
            ]
          },
          "metadata": {
            "tags": []
          },
          "execution_count": 12
        }
      ]
    },
    {
      "cell_type": "code",
      "metadata": {
        "id": "l6u3AyZIzlIH",
        "colab_type": "code",
        "colab": {
          "base_uri": "https://localhost:8080/",
          "height": 197
        },
        "outputId": "08c0cfe6-7e2a-460a-8c26-db1b7af46ab4"
      },
      "source": [
        "lbvd = sklearn.preprocessing.LabelEncoder()\n",
        "train[\"Vehicle_Damage\"] = lbvd.fit_transform(train[\"Vehicle_Damage\"])\n",
        "\n",
        "train.head()"
      ],
      "execution_count": null,
      "outputs": [
        {
          "output_type": "execute_result",
          "data": {
            "text/html": [
              "<div>\n",
              "<style scoped>\n",
              "    .dataframe tbody tr th:only-of-type {\n",
              "        vertical-align: middle;\n",
              "    }\n",
              "\n",
              "    .dataframe tbody tr th {\n",
              "        vertical-align: top;\n",
              "    }\n",
              "\n",
              "    .dataframe thead th {\n",
              "        text-align: right;\n",
              "    }\n",
              "</style>\n",
              "<table border=\"1\" class=\"dataframe\">\n",
              "  <thead>\n",
              "    <tr style=\"text-align: right;\">\n",
              "      <th></th>\n",
              "      <th>Gender</th>\n",
              "      <th>Age</th>\n",
              "      <th>Driving_License</th>\n",
              "      <th>Region_Code</th>\n",
              "      <th>Previously_Insured</th>\n",
              "      <th>Vehicle_Age</th>\n",
              "      <th>Vehicle_Damage</th>\n",
              "      <th>Annual_Premium</th>\n",
              "      <th>Policy_Sales_Channel</th>\n",
              "      <th>Vintage</th>\n",
              "    </tr>\n",
              "  </thead>\n",
              "  <tbody>\n",
              "    <tr>\n",
              "      <th>0</th>\n",
              "      <td>1</td>\n",
              "      <td>44</td>\n",
              "      <td>1</td>\n",
              "      <td>28.0</td>\n",
              "      <td>0</td>\n",
              "      <td>2</td>\n",
              "      <td>1</td>\n",
              "      <td>40454.0</td>\n",
              "      <td>26.0</td>\n",
              "      <td>217</td>\n",
              "    </tr>\n",
              "    <tr>\n",
              "      <th>1</th>\n",
              "      <td>1</td>\n",
              "      <td>76</td>\n",
              "      <td>1</td>\n",
              "      <td>3.0</td>\n",
              "      <td>0</td>\n",
              "      <td>0</td>\n",
              "      <td>0</td>\n",
              "      <td>33536.0</td>\n",
              "      <td>26.0</td>\n",
              "      <td>183</td>\n",
              "    </tr>\n",
              "    <tr>\n",
              "      <th>2</th>\n",
              "      <td>1</td>\n",
              "      <td>47</td>\n",
              "      <td>1</td>\n",
              "      <td>28.0</td>\n",
              "      <td>0</td>\n",
              "      <td>2</td>\n",
              "      <td>1</td>\n",
              "      <td>38294.0</td>\n",
              "      <td>26.0</td>\n",
              "      <td>27</td>\n",
              "    </tr>\n",
              "    <tr>\n",
              "      <th>3</th>\n",
              "      <td>1</td>\n",
              "      <td>21</td>\n",
              "      <td>1</td>\n",
              "      <td>11.0</td>\n",
              "      <td>1</td>\n",
              "      <td>1</td>\n",
              "      <td>0</td>\n",
              "      <td>28619.0</td>\n",
              "      <td>152.0</td>\n",
              "      <td>203</td>\n",
              "    </tr>\n",
              "    <tr>\n",
              "      <th>4</th>\n",
              "      <td>0</td>\n",
              "      <td>29</td>\n",
              "      <td>1</td>\n",
              "      <td>41.0</td>\n",
              "      <td>1</td>\n",
              "      <td>1</td>\n",
              "      <td>0</td>\n",
              "      <td>27496.0</td>\n",
              "      <td>152.0</td>\n",
              "      <td>39</td>\n",
              "    </tr>\n",
              "  </tbody>\n",
              "</table>\n",
              "</div>"
            ],
            "text/plain": [
              "   Gender  Age  Driving_License  ...  Annual_Premium  Policy_Sales_Channel  Vintage\n",
              "0       1   44                1  ...         40454.0                  26.0      217\n",
              "1       1   76                1  ...         33536.0                  26.0      183\n",
              "2       1   47                1  ...         38294.0                  26.0       27\n",
              "3       1   21                1  ...         28619.0                 152.0      203\n",
              "4       0   29                1  ...         27496.0                 152.0       39\n",
              "\n",
              "[5 rows x 10 columns]"
            ]
          },
          "metadata": {
            "tags": []
          },
          "execution_count": 13
        }
      ]
    },
    {
      "cell_type": "code",
      "metadata": {
        "id": "36RzbN0gzuuI",
        "colab_type": "code",
        "colab": {
          "base_uri": "https://localhost:8080/",
          "height": 212
        },
        "outputId": "6b7d5e31-0327-42db-8ce3-dd58f1a6c92c"
      },
      "source": [
        "print(train.dtypes)"
      ],
      "execution_count": null,
      "outputs": [
        {
          "output_type": "stream",
          "text": [
            "Gender                    int64\n",
            "Age                       int64\n",
            "Driving_License           int64\n",
            "Region_Code             float64\n",
            "Previously_Insured        int64\n",
            "Vehicle_Age               int64\n",
            "Vehicle_Damage            int64\n",
            "Annual_Premium          float64\n",
            "Policy_Sales_Channel    float64\n",
            "Vintage                   int64\n",
            "dtype: object\n"
          ],
          "name": "stdout"
        }
      ]
    },
    {
      "cell_type": "code",
      "metadata": {
        "id": "4Kx4kd8K6sd0",
        "colab_type": "code",
        "colab": {
          "base_uri": "https://localhost:8080/",
          "height": 176
        },
        "outputId": "ee83bc09-cb1e-4f03-d3df-386674a26970"
      },
      "source": [
        "import xgboost as xgb\n",
        "\n",
        "model_xgb = xgb.XGBClassifier()\n",
        "model_xgb.fit(train, y)\n"
      ],
      "execution_count": null,
      "outputs": [
        {
          "output_type": "execute_result",
          "data": {
            "text/plain": [
              "XGBClassifier(base_score=0.5, booster='gbtree', colsample_bylevel=1,\n",
              "              colsample_bynode=1, colsample_bytree=1, gamma=0, gpu_id=-1,\n",
              "              importance_type='gain', interaction_constraints='',\n",
              "              learning_rate=0.300000012, max_delta_step=0, max_depth=6,\n",
              "              min_child_weight=1, missing=nan, monotone_constraints='()',\n",
              "              n_estimators=100, n_jobs=0, num_parallel_tree=1,\n",
              "              objective='binary:logistic', random_state=0, reg_alpha=0,\n",
              "              reg_lambda=1, scale_pos_weight=1, subsample=1,\n",
              "              tree_method='exact', validate_parameters=1, verbosity=None)"
            ]
          },
          "metadata": {
            "tags": []
          },
          "execution_count": 15
        }
      ]
    },
    {
      "cell_type": "code",
      "metadata": {
        "id": "xTEEWL0Mbrbv",
        "colab_type": "code",
        "colab": {
          "base_uri": "https://localhost:8080/",
          "height": 158
        },
        "outputId": "343d9468-d253-4852-a8ed-46c271bc8d30"
      },
      "source": [
        "from sklearn.ensemble import RandomForestClassifier\n",
        "\n",
        "model_rf = RandomForestClassifier(oob_score = True, max_features = 'auto', n_estimators = 100, min_samples_leaf = 2, random_state = 2)\n",
        "\n",
        "model_rf.fit(train, y)"
      ],
      "execution_count": null,
      "outputs": [
        {
          "output_type": "execute_result",
          "data": {
            "text/plain": [
              "RandomForestClassifier(bootstrap=True, ccp_alpha=0.0, class_weight=None,\n",
              "                       criterion='gini', max_depth=None, max_features='auto',\n",
              "                       max_leaf_nodes=None, max_samples=None,\n",
              "                       min_impurity_decrease=0.0, min_impurity_split=None,\n",
              "                       min_samples_leaf=2, min_samples_split=2,\n",
              "                       min_weight_fraction_leaf=0.0, n_estimators=100,\n",
              "                       n_jobs=None, oob_score=True, random_state=2, verbose=0,\n",
              "                       warm_start=False)"
            ]
          },
          "metadata": {
            "tags": []
          },
          "execution_count": 16
        }
      ]
    },
    {
      "cell_type": "code",
      "metadata": {
        "id": "CagzpBEAcWL4",
        "colab_type": "code",
        "colab": {
          "base_uri": "https://localhost:8080/",
          "height": 70
        },
        "outputId": "0c400ba7-8149-4b3b-cdee-8532060093c0"
      },
      "source": [
        "from sklearn.neighbors import KNeighborsClassifier\n",
        "\n",
        "model_knn = KNeighborsClassifier(n_neighbors=5, algorithm='auto', n_jobs=-1)\n",
        "\n",
        "model_knn.fit(train, y)"
      ],
      "execution_count": null,
      "outputs": [
        {
          "output_type": "execute_result",
          "data": {
            "text/plain": [
              "KNeighborsClassifier(algorithm='auto', leaf_size=30, metric='minkowski',\n",
              "                     metric_params=None, n_jobs=-1, n_neighbors=5, p=2,\n",
              "                     weights='uniform')"
            ]
          },
          "metadata": {
            "tags": []
          },
          "execution_count": 17
        }
      ]
    },
    {
      "cell_type": "code",
      "metadata": {
        "id": "J6E76VR5d3Qm",
        "colab_type": "code",
        "colab": {
          "base_uri": "https://localhost:8080/",
          "height": 123
        },
        "outputId": "a36a5640-519b-4024-9c01-08b9f549e4bf"
      },
      "source": [
        "from sklearn.linear_model import SGDClassifier\n",
        "\n",
        "model_sgd = SGDClassifier(penalty='l2', loss='squared_hinge', n_jobs=-1, max_iter= 5000)\n",
        "\n",
        "model_sgd.fit(train, y)"
      ],
      "execution_count": null,
      "outputs": [
        {
          "output_type": "execute_result",
          "data": {
            "text/plain": [
              "SGDClassifier(alpha=0.0001, average=False, class_weight=None,\n",
              "              early_stopping=False, epsilon=0.1, eta0=0.0, fit_intercept=True,\n",
              "              l1_ratio=0.15, learning_rate='optimal', loss='squared_hinge',\n",
              "              max_iter=5000, n_iter_no_change=5, n_jobs=-1, penalty='l2',\n",
              "              power_t=0.5, random_state=None, shuffle=True, tol=0.001,\n",
              "              validation_fraction=0.1, verbose=0, warm_start=False)"
            ]
          },
          "metadata": {
            "tags": []
          },
          "execution_count": 18
        }
      ]
    },
    {
      "cell_type": "code",
      "metadata": {
        "id": "2MdHB7tzFhPb",
        "colab_type": "code",
        "colab": {}
      },
      "source": [
        "from sklearn.model_selection import train_test_split\n",
        "x_train, x_val, y_train, y_val = train_test_split(train, y, test_size=0.2)"
      ],
      "execution_count": null,
      "outputs": []
    },
    {
      "cell_type": "code",
      "metadata": {
        "id": "1NqD4Ib-FTew",
        "colab_type": "code",
        "colab": {
          "base_uri": "https://localhost:8080/",
          "height": 196
        },
        "outputId": "8932d53c-88ca-4485-d57e-47396544f9f5"
      },
      "source": [
        "from lightgbm import LGBMClassifier\n",
        "model_lgbm = LGBMClassifier(max_depth=5,\n",
        "                       learning_rate=0.4, \n",
        "                       n_estimators=100)\n",
        "\n",
        "model_lgbm.fit(x_train,y_train,\n",
        "          eval_set=[(x_train,y_train),(x_val, y_val.values)],\n",
        "          eval_metric='auc',\n",
        "          early_stopping_rounds=100,\n",
        "          verbose=200)"
      ],
      "execution_count": null,
      "outputs": [
        {
          "output_type": "stream",
          "text": [
            "Training until validation scores don't improve for 100 rounds.\n",
            "Did not meet early stopping. Best iteration is:\n",
            "[100]\ttraining's binary_logloss: 0.256149\ttraining's auc: 0.873391\tvalid_1's binary_logloss: 0.266685\tvalid_1's auc: 0.853922\n"
          ],
          "name": "stdout"
        },
        {
          "output_type": "execute_result",
          "data": {
            "text/plain": [
              "LGBMClassifier(boosting_type='gbdt', class_weight=None, colsample_bytree=1.0,\n",
              "               importance_type='split', learning_rate=0.4, max_depth=5,\n",
              "               min_child_samples=20, min_child_weight=0.001, min_split_gain=0.0,\n",
              "               n_estimators=100, n_jobs=-1, num_leaves=31, objective=None,\n",
              "               random_state=None, reg_alpha=0.0, reg_lambda=0.0, silent=True,\n",
              "               subsample=1.0, subsample_for_bin=200000, subsample_freq=0)"
            ]
          },
          "metadata": {
            "tags": []
          },
          "execution_count": 20
        }
      ]
    },
    {
      "cell_type": "code",
      "metadata": {
        "id": "mZksjYzOKhIq",
        "colab_type": "code",
        "colab": {
          "base_uri": "https://localhost:8080/",
          "height": 1000
        },
        "outputId": "44a2b9a3-5de1-48ee-dc68-651e345e9d24"
      },
      "source": [
        "from catboost import CatBoostClassifier,Pool, cv\n",
        "errCB = []\n",
        "y_pred_tot_cb = []\n",
        "from sklearn.model_selection import KFold,StratifiedKFold\n",
        "\n",
        "fold = StratifiedKFold(n_splits=15)\n",
        "i = 1\n",
        "for train_index, test_index in fold.split(train,y):\n",
        "    x_train, x_val = train.iloc[train_index], train.iloc[test_index]\n",
        "    y_train, y_val = y[train_index], y[test_index]\n",
        "    m = CatBoostClassifier(n_estimators=5000,\n",
        "                           random_state=1994,\n",
        "                           eval_metric='AUC',\n",
        "                           learning_rate=0.03, max_depth=5)\n",
        "    m.fit(x_train, y_train,\n",
        "          eval_set=[(x_train,y_train),(x_val, y_val)],\n",
        "          early_stopping_rounds=200,\n",
        "          verbose=200)"
      ],
      "execution_count": null,
      "outputs": [
        {
          "output_type": "stream",
          "text": [
            "0:\ttest: 0.8354696\ttest1: 0.8355169\tbest: 0.8355169 (0)\ttotal: 216ms\tremaining: 17m 58s\n",
            "200:\ttest: 0.8556430\ttest1: 0.8578466\tbest: 0.8578466 (200)\ttotal: 32.4s\tremaining: 12m 53s\n",
            "400:\ttest: 0.8580594\ttest1: 0.8595282\tbest: 0.8595282 (400)\ttotal: 1m 3s\tremaining: 12m 13s\n",
            "600:\ttest: 0.8596833\ttest1: 0.8601681\tbest: 0.8601857 (595)\ttotal: 1m 36s\tremaining: 11m 42s\n",
            "800:\ttest: 0.8610451\ttest1: 0.8603537\tbest: 0.8603569 (786)\ttotal: 2m 8s\tremaining: 11m 14s\n",
            "1000:\ttest: 0.8620973\ttest1: 0.8604891\tbest: 0.8604914 (949)\ttotal: 2m 40s\tremaining: 10m 41s\n",
            "1200:\ttest: 0.8629867\ttest1: 0.8605215\tbest: 0.8605351 (1186)\ttotal: 3m 12s\tremaining: 10m 9s\n",
            "1400:\ttest: 0.8638252\ttest1: 0.8605771\tbest: 0.8605839 (1397)\ttotal: 3m 44s\tremaining: 9m 37s\n",
            "1600:\ttest: 0.8646499\ttest1: 0.8605315\tbest: 0.8606077 (1525)\ttotal: 4m 16s\tremaining: 9m 5s\n",
            "Stopped by overfitting detector  (200 iterations wait)\n",
            "\n",
            "bestTest = 0.8606076578\n",
            "bestIteration = 1525\n",
            "\n",
            "Shrink model to first 1526 iterations.\n",
            "0:\ttest: 0.8353848\ttest1: 0.8366850\tbest: 0.8366850 (0)\ttotal: 153ms\tremaining: 12m 43s\n",
            "200:\ttest: 0.8558584\ttest1: 0.8558940\tbest: 0.8558940 (200)\ttotal: 32.7s\tremaining: 13m\n",
            "400:\ttest: 0.8581719\ttest1: 0.8572579\tbest: 0.8572579 (400)\ttotal: 1m 4s\tremaining: 12m 20s\n",
            "600:\ttest: 0.8597872\ttest1: 0.8578405\tbest: 0.8578506 (598)\ttotal: 1m 36s\tremaining: 11m 47s\n",
            "800:\ttest: 0.8610948\ttest1: 0.8580394\tbest: 0.8580504 (799)\ttotal: 2m 8s\tremaining: 11m 15s\n",
            "1000:\ttest: 0.8621722\ttest1: 0.8581402\tbest: 0.8581463 (995)\ttotal: 2m 44s\tremaining: 10m 56s\n",
            "1200:\ttest: 0.8631282\ttest1: 0.8582764\tbest: 0.8582902 (1184)\ttotal: 3m 16s\tremaining: 10m 21s\n",
            "1400:\ttest: 0.8639982\ttest1: 0.8582742\tbest: 0.8583282 (1312)\ttotal: 3m 48s\tremaining: 9m 47s\n",
            "Stopped by overfitting detector  (200 iterations wait)\n",
            "\n",
            "bestTest = 0.8583282068\n",
            "bestIteration = 1312\n",
            "\n",
            "Shrink model to first 1313 iterations.\n",
            "0:\ttest: 0.8353144\ttest1: 0.8376499\tbest: 0.8376499 (0)\ttotal: 150ms\tremaining: 12m 31s\n",
            "200:\ttest: 0.8557578\ttest1: 0.8564782\tbest: 0.8564782 (200)\ttotal: 32.9s\tremaining: 13m 5s\n",
            "400:\ttest: 0.8581488\ttest1: 0.8581643\tbest: 0.8581643 (400)\ttotal: 1m 4s\tremaining: 12m 23s\n",
            "600:\ttest: 0.8597440\ttest1: 0.8587476\tbest: 0.8587476 (600)\ttotal: 1m 36s\tremaining: 11m 48s\n",
            "800:\ttest: 0.8610775\ttest1: 0.8590476\tbest: 0.8590476 (800)\ttotal: 2m 8s\tremaining: 11m 15s\n",
            "1000:\ttest: 0.8621741\ttest1: 0.8592328\tbest: 0.8592434 (954)\ttotal: 2m 41s\tremaining: 10m 44s\n",
            "1200:\ttest: 0.8630596\ttest1: 0.8593404\tbest: 0.8593578 (1188)\ttotal: 3m 13s\tremaining: 10m 12s\n",
            "1400:\ttest: 0.8639469\ttest1: 0.8594911\tbest: 0.8594918 (1394)\ttotal: 3m 46s\tremaining: 9m 40s\n",
            "1600:\ttest: 0.8647503\ttest1: 0.8593934\tbest: 0.8595311 (1456)\ttotal: 4m 18s\tremaining: 9m 8s\n",
            "Stopped by overfitting detector  (200 iterations wait)\n",
            "\n",
            "bestTest = 0.8595311278\n",
            "bestIteration = 1456\n",
            "\n",
            "Shrink model to first 1457 iterations.\n",
            "0:\ttest: 0.8354882\ttest1: 0.8352158\tbest: 0.8352158 (0)\ttotal: 147ms\tremaining: 12m 16s\n",
            "200:\ttest: 0.8557390\ttest1: 0.8575398\tbest: 0.8575460 (199)\ttotal: 32.8s\tremaining: 13m 2s\n",
            "400:\ttest: 0.8580242\ttest1: 0.8588513\tbest: 0.8588513 (400)\ttotal: 1m 5s\tremaining: 12m 28s\n",
            "600:\ttest: 0.8596816\ttest1: 0.8595050\tbest: 0.8595051 (599)\ttotal: 1m 37s\tremaining: 11m 53s\n",
            "800:\ttest: 0.8610008\ttest1: 0.8599009\tbest: 0.8599170 (793)\ttotal: 2m 9s\tremaining: 11m 19s\n",
            "1000:\ttest: 0.8620713\ttest1: 0.8601596\tbest: 0.8601676 (980)\ttotal: 2m 41s\tremaining: 10m 46s\n",
            "1200:\ttest: 0.8630383\ttest1: 0.8603184\tbest: 0.8603330 (1194)\ttotal: 3m 14s\tremaining: 10m 13s\n",
            "1400:\ttest: 0.8638993\ttest1: 0.8603688\tbest: 0.8603957 (1384)\ttotal: 3m 45s\tremaining: 9m 40s\n",
            "1600:\ttest: 0.8647252\ttest1: 0.8603751\tbest: 0.8604502 (1491)\ttotal: 4m 20s\tremaining: 9m 12s\n",
            "Stopped by overfitting detector  (200 iterations wait)\n",
            "\n",
            "bestTest = 0.8604501751\n",
            "bestIteration = 1491\n",
            "\n",
            "Shrink model to first 1492 iterations.\n",
            "0:\ttest: 0.8353611\ttest1: 0.8369883\tbest: 0.8369883 (0)\ttotal: 153ms\tremaining: 12m 47s\n",
            "200:\ttest: 0.8558477\ttest1: 0.8550602\tbest: 0.8550602 (200)\ttotal: 32.6s\tremaining: 12m 57s\n",
            "400:\ttest: 0.8582086\ttest1: 0.8567553\tbest: 0.8567628 (396)\ttotal: 1m 4s\tremaining: 12m 18s\n",
            "600:\ttest: 0.8598304\ttest1: 0.8575468\tbest: 0.8575512 (599)\ttotal: 1m 36s\tremaining: 11m 47s\n",
            "800:\ttest: 0.8611266\ttest1: 0.8581104\tbest: 0.8581244 (796)\ttotal: 2m 8s\tremaining: 11m 14s\n",
            "1000:\ttest: 0.8622258\ttest1: 0.8584183\tbest: 0.8584255 (991)\ttotal: 2m 40s\tremaining: 10m 40s\n",
            "1200:\ttest: 0.8631563\ttest1: 0.8585672\tbest: 0.8585736 (1199)\ttotal: 3m 11s\tremaining: 10m 7s\n",
            "1400:\ttest: 0.8640367\ttest1: 0.8585976\tbest: 0.8586329 (1370)\ttotal: 3m 43s\tremaining: 9m 34s\n",
            "Stopped by overfitting detector  (200 iterations wait)\n",
            "\n",
            "bestTest = 0.8586328555\n",
            "bestIteration = 1370\n",
            "\n",
            "Shrink model to first 1371 iterations.\n",
            "0:\ttest: 0.8354020\ttest1: 0.8364330\tbest: 0.8364330 (0)\ttotal: 149ms\tremaining: 12m 25s\n",
            "200:\ttest: 0.8558308\ttest1: 0.8562661\tbest: 0.8562661 (200)\ttotal: 32.2s\tremaining: 12m 49s\n",
            "400:\ttest: 0.8581876\ttest1: 0.8579002\tbest: 0.8579006 (399)\ttotal: 1m 3s\tremaining: 12m 11s\n",
            "600:\ttest: 0.8597815\ttest1: 0.8587995\tbest: 0.8588013 (599)\ttotal: 1m 35s\tremaining: 11m 42s\n",
            "800:\ttest: 0.8610494\ttest1: 0.8594227\tbest: 0.8594227 (800)\ttotal: 2m 7s\tremaining: 11m 8s\n",
            "1000:\ttest: 0.8620758\ttest1: 0.8596879\tbest: 0.8596929 (987)\ttotal: 2m 39s\tremaining: 10m 36s\n",
            "1200:\ttest: 0.8630218\ttest1: 0.8599334\tbest: 0.8599384 (1198)\ttotal: 3m 11s\tremaining: 10m 4s\n",
            "1400:\ttest: 0.8638783\ttest1: 0.8601441\tbest: 0.8601441 (1400)\ttotal: 3m 42s\tremaining: 9m 32s\n",
            "1600:\ttest: 0.8647012\ttest1: 0.8602320\tbest: 0.8602346 (1599)\ttotal: 4m 14s\tremaining: 9m\n",
            "1800:\ttest: 0.8654792\ttest1: 0.8602165\tbest: 0.8602581 (1761)\ttotal: 4m 46s\tremaining: 8m 28s\n",
            "2000:\ttest: 0.8662409\ttest1: 0.8602635\tbest: 0.8602772 (1947)\ttotal: 5m 18s\tremaining: 7m 56s\n",
            "2200:\ttest: 0.8669077\ttest1: 0.8603283\tbest: 0.8603283 (2200)\ttotal: 5m 52s\tremaining: 7m 27s\n",
            "2400:\ttest: 0.8675615\ttest1: 0.8602680\tbest: 0.8603301 (2207)\ttotal: 6m 23s\tremaining: 6m 55s\n",
            "Stopped by overfitting detector  (200 iterations wait)\n",
            "\n",
            "bestTest = 0.8603300943\n",
            "bestIteration = 2207\n",
            "\n",
            "Shrink model to first 2208 iterations.\n",
            "0:\ttest: 0.8357644\ttest1: 0.8313610\tbest: 0.8313610 (0)\ttotal: 148ms\tremaining: 12m 22s\n",
            "200:\ttest: 0.8561123\ttest1: 0.8514083\tbest: 0.8514083 (200)\ttotal: 32.6s\tremaining: 12m 58s\n",
            "400:\ttest: 0.8583559\ttest1: 0.8534352\tbest: 0.8534376 (399)\ttotal: 1m 4s\tremaining: 12m 15s\n",
            "600:\ttest: 0.8599691\ttest1: 0.8542304\tbest: 0.8542462 (591)\ttotal: 1m 35s\tremaining: 11m 42s\n",
            "800:\ttest: 0.8613124\ttest1: 0.8545916\tbest: 0.8545950 (799)\ttotal: 2m 7s\tremaining: 11m 8s\n",
            "1000:\ttest: 0.8624215\ttest1: 0.8548618\tbest: 0.8548729 (956)\ttotal: 2m 39s\tremaining: 10m 37s\n",
            "1200:\ttest: 0.8633534\ttest1: 0.8550480\tbest: 0.8550616 (1166)\ttotal: 3m 11s\tremaining: 10m 5s\n",
            "1400:\ttest: 0.8642130\ttest1: 0.8552813\tbest: 0.8552902 (1391)\ttotal: 3m 43s\tremaining: 9m 33s\n",
            "1600:\ttest: 0.8650278\ttest1: 0.8552912\tbest: 0.8553243 (1478)\ttotal: 4m 14s\tremaining: 9m 1s\n",
            "Stopped by overfitting detector  (200 iterations wait)\n",
            "\n",
            "bestTest = 0.8553243253\n",
            "bestIteration = 1478\n",
            "\n",
            "Shrink model to first 1479 iterations.\n",
            "0:\ttest: 0.8355677\ttest1: 0.8339722\tbest: 0.8339722 (0)\ttotal: 149ms\tremaining: 12m 25s\n",
            "200:\ttest: 0.8559381\ttest1: 0.8545043\tbest: 0.8545043 (200)\ttotal: 32.2s\tremaining: 12m 49s\n",
            "400:\ttest: 0.8582433\ttest1: 0.8564756\tbest: 0.8564756 (400)\ttotal: 1m 3s\tremaining: 12m 11s\n",
            "600:\ttest: 0.8598925\ttest1: 0.8570012\tbest: 0.8570049 (561)\ttotal: 1m 35s\tremaining: 11m 39s\n",
            "800:\ttest: 0.8612800\ttest1: 0.8574661\tbest: 0.8574732 (797)\ttotal: 2m 7s\tremaining: 11m 8s\n",
            "1000:\ttest: 0.8623505\ttest1: 0.8576110\tbest: 0.8576110 (1000)\ttotal: 2m 39s\tremaining: 10m 37s\n",
            "1200:\ttest: 0.8632913\ttest1: 0.8577331\tbest: 0.8577603 (1157)\ttotal: 3m 11s\tremaining: 10m 4s\n",
            "Stopped by overfitting detector  (200 iterations wait)\n",
            "\n",
            "bestTest = 0.8577603166\n",
            "bestIteration = 1157\n",
            "\n",
            "Shrink model to first 1158 iterations.\n",
            "0:\ttest: 0.8354146\ttest1: 0.8362297\tbest: 0.8362297 (0)\ttotal: 156ms\tremaining: 13m\n",
            "200:\ttest: 0.8556772\ttest1: 0.8568509\tbest: 0.8568574 (198)\ttotal: 32.4s\tremaining: 12m 53s\n",
            "400:\ttest: 0.8581052\ttest1: 0.8581311\tbest: 0.8581516 (398)\ttotal: 1m 4s\tremaining: 12m 15s\n",
            "600:\ttest: 0.8596984\ttest1: 0.8586548\tbest: 0.8586592 (599)\ttotal: 1m 38s\tremaining: 11m 57s\n",
            "800:\ttest: 0.8609981\ttest1: 0.8591699\tbest: 0.8591699 (800)\ttotal: 2m 10s\tremaining: 11m 21s\n",
            "1000:\ttest: 0.8620778\ttest1: 0.8594377\tbest: 0.8594432 (998)\ttotal: 2m 42s\tremaining: 10m 47s\n",
            "1200:\ttest: 0.8630363\ttest1: 0.8595999\tbest: 0.8596092 (1189)\ttotal: 3m 14s\tremaining: 10m 15s\n",
            "1400:\ttest: 0.8638913\ttest1: 0.8596897\tbest: 0.8596924 (1382)\ttotal: 3m 47s\tremaining: 9m 43s\n",
            "1600:\ttest: 0.8647093\ttest1: 0.8597769\tbest: 0.8597976 (1502)\ttotal: 4m 19s\tremaining: 9m 10s\n",
            "Stopped by overfitting detector  (200 iterations wait)\n",
            "\n",
            "bestTest = 0.8597975707\n",
            "bestIteration = 1502\n",
            "\n",
            "Shrink model to first 1503 iterations.\n",
            "0:\ttest: 0.8355098\ttest1: 0.8349080\tbest: 0.8349080 (0)\ttotal: 147ms\tremaining: 12m 12s\n",
            "200:\ttest: 0.8558423\ttest1: 0.8560636\tbest: 0.8560636 (200)\ttotal: 32.5s\tremaining: 12m 56s\n",
            "400:\ttest: 0.8581201\ttest1: 0.8578863\tbest: 0.8578983 (398)\ttotal: 1m 4s\tremaining: 12m 18s\n",
            "600:\ttest: 0.8597002\ttest1: 0.8585231\tbest: 0.8585253 (593)\ttotal: 1m 36s\tremaining: 11m 44s\n",
            "800:\ttest: 0.8610327\ttest1: 0.8589248\tbest: 0.8589389 (786)\ttotal: 2m 7s\tremaining: 11m 9s\n",
            "1000:\ttest: 0.8621702\ttest1: 0.8591850\tbest: 0.8591975 (993)\ttotal: 2m 39s\tremaining: 10m 37s\n",
            "1200:\ttest: 0.8631404\ttest1: 0.8591686\tbest: 0.8592066 (1035)\ttotal: 3m 11s\tremaining: 10m 5s\n",
            "Stopped by overfitting detector  (200 iterations wait)\n",
            "\n",
            "bestTest = 0.8592065845\n",
            "bestIteration = 1035\n",
            "\n",
            "Shrink model to first 1036 iterations.\n",
            "0:\ttest: 0.8355309\ttest1: 0.8345870\tbest: 0.8345870 (0)\ttotal: 151ms\tremaining: 12m 33s\n",
            "200:\ttest: 0.8559918\ttest1: 0.8536034\tbest: 0.8536034 (200)\ttotal: 33.2s\tremaining: 13m 12s\n",
            "400:\ttest: 0.8583280\ttest1: 0.8550023\tbest: 0.8550023 (400)\ttotal: 1m 4s\tremaining: 12m 24s\n",
            "600:\ttest: 0.8599155\ttest1: 0.8558202\tbest: 0.8558202 (600)\ttotal: 1m 36s\tremaining: 11m 48s\n",
            "800:\ttest: 0.8612114\ttest1: 0.8564489\tbest: 0.8564489 (800)\ttotal: 2m 8s\tremaining: 11m 14s\n",
            "1000:\ttest: 0.8622989\ttest1: 0.8567122\tbest: 0.8567168 (997)\ttotal: 2m 40s\tremaining: 10m 41s\n",
            "1200:\ttest: 0.8632262\ttest1: 0.8568275\tbest: 0.8568378 (1198)\ttotal: 3m 12s\tremaining: 10m 9s\n",
            "1400:\ttest: 0.8640911\ttest1: 0.8570263\tbest: 0.8570337 (1388)\ttotal: 3m 46s\tremaining: 9m 42s\n",
            "1600:\ttest: 0.8649012\ttest1: 0.8571155\tbest: 0.8571295 (1563)\ttotal: 4m 18s\tremaining: 9m 9s\n",
            "1800:\ttest: 0.8656631\ttest1: 0.8571590\tbest: 0.8571696 (1759)\ttotal: 4m 50s\tremaining: 8m 36s\n",
            "2000:\ttest: 0.8664204\ttest1: 0.8571862\tbest: 0.8572087 (1993)\ttotal: 5m 22s\tremaining: 8m 3s\n",
            "2200:\ttest: 0.8671344\ttest1: 0.8572256\tbest: 0.8572337 (2181)\ttotal: 5m 55s\tremaining: 7m 31s\n",
            "Stopped by overfitting detector  (200 iterations wait)\n",
            "\n",
            "bestTest = 0.8572337279\n",
            "bestIteration = 2181\n",
            "\n",
            "Shrink model to first 2182 iterations.\n",
            "0:\ttest: 0.8353069\ttest1: 0.8376231\tbest: 0.8376231 (0)\ttotal: 147ms\tremaining: 12m 16s\n",
            "200:\ttest: 0.8558001\ttest1: 0.8557156\tbest: 0.8557156 (200)\ttotal: 32.5s\tremaining: 12m 55s\n",
            "400:\ttest: 0.8581417\ttest1: 0.8574014\tbest: 0.8574166 (397)\ttotal: 1m 4s\tremaining: 12m 16s\n",
            "600:\ttest: 0.8597158\ttest1: 0.8581873\tbest: 0.8581873 (600)\ttotal: 1m 35s\tremaining: 11m 42s\n",
            "800:\ttest: 0.8609862\ttest1: 0.8586223\tbest: 0.8586244 (794)\ttotal: 2m 8s\tremaining: 11m 11s\n",
            "1000:\ttest: 0.8620209\ttest1: 0.8589315\tbest: 0.8589315 (1000)\ttotal: 2m 40s\tremaining: 10m 39s\n",
            "1200:\ttest: 0.8629460\ttest1: 0.8591514\tbest: 0.8591519 (1199)\ttotal: 3m 12s\tremaining: 10m 8s\n",
            "1400:\ttest: 0.8638086\ttest1: 0.8593703\tbest: 0.8593749 (1398)\ttotal: 3m 44s\tremaining: 9m 35s\n",
            "1600:\ttest: 0.8646447\ttest1: 0.8594370\tbest: 0.8594587 (1575)\ttotal: 4m 16s\tremaining: 9m 4s\n",
            "1800:\ttest: 0.8654423\ttest1: 0.8596597\tbest: 0.8596745 (1789)\ttotal: 4m 48s\tremaining: 8m 32s\n",
            "2000:\ttest: 0.8661695\ttest1: 0.8596551\tbest: 0.8596948 (1902)\ttotal: 5m 20s\tremaining: 8m\n",
            "Stopped by overfitting detector  (200 iterations wait)\n",
            "\n",
            "bestTest = 0.8596948272\n",
            "bestIteration = 1902\n",
            "\n",
            "Shrink model to first 1903 iterations.\n",
            "0:\ttest: 0.8350790\ttest1: 0.8409103\tbest: 0.8409103 (0)\ttotal: 156ms\tremaining: 13m\n",
            "200:\ttest: 0.8555938\ttest1: 0.8577446\tbest: 0.8577495 (199)\ttotal: 32.3s\tremaining: 12m 50s\n",
            "400:\ttest: 0.8579082\ttest1: 0.8597185\tbest: 0.8597210 (399)\ttotal: 1m 3s\tremaining: 12m 11s\n",
            "600:\ttest: 0.8595560\ttest1: 0.8605067\tbest: 0.8605067 (600)\ttotal: 1m 37s\tremaining: 11m 53s\n",
            "800:\ttest: 0.8608598\ttest1: 0.8609515\tbest: 0.8609515 (800)\ttotal: 2m 9s\tremaining: 11m 16s\n",
            "1000:\ttest: 0.8619328\ttest1: 0.8610704\tbest: 0.8610963 (986)\ttotal: 2m 40s\tremaining: 10m 42s\n",
            "1200:\ttest: 0.8628776\ttest1: 0.8611089\tbest: 0.8611415 (1181)\ttotal: 3m 12s\tremaining: 10m 9s\n",
            "1400:\ttest: 0.8637627\ttest1: 0.8611233\tbest: 0.8611660 (1361)\ttotal: 3m 44s\tremaining: 9m 36s\n",
            "1600:\ttest: 0.8645564\ttest1: 0.8611641\tbest: 0.8611916 (1486)\ttotal: 4m 16s\tremaining: 9m 4s\n",
            "Stopped by overfitting detector  (200 iterations wait)\n",
            "\n",
            "bestTest = 0.8611916062\n",
            "bestIteration = 1486\n",
            "\n",
            "Shrink model to first 1487 iterations.\n",
            "0:\ttest: 0.8357880\ttest1: 0.8309464\tbest: 0.8309464 (0)\ttotal: 154ms\tremaining: 12m 50s\n",
            "200:\ttest: 0.8560337\ttest1: 0.8530336\tbest: 0.8530336 (200)\ttotal: 32.5s\tremaining: 12m 55s\n",
            "400:\ttest: 0.8582609\ttest1: 0.8551571\tbest: 0.8551571 (400)\ttotal: 1m 3s\tremaining: 12m 13s\n",
            "600:\ttest: 0.8598289\ttest1: 0.8560780\tbest: 0.8560830 (598)\ttotal: 1m 35s\tremaining: 11m 41s\n",
            "800:\ttest: 0.8611407\ttest1: 0.8569056\tbest: 0.8569056 (800)\ttotal: 2m 7s\tremaining: 11m 9s\n",
            "1000:\ttest: 0.8622150\ttest1: 0.8573210\tbest: 0.8573210 (1000)\ttotal: 2m 39s\tremaining: 10m 37s\n",
            "1200:\ttest: 0.8631741\ttest1: 0.8576374\tbest: 0.8576534 (1191)\ttotal: 3m 11s\tremaining: 10m 5s\n",
            "1400:\ttest: 0.8640098\ttest1: 0.8578769\tbest: 0.8578769 (1400)\ttotal: 3m 43s\tremaining: 9m 33s\n",
            "1600:\ttest: 0.8648180\ttest1: 0.8580104\tbest: 0.8580210 (1541)\ttotal: 4m 15s\tremaining: 9m 1s\n",
            "1800:\ttest: 0.8655920\ttest1: 0.8579702\tbest: 0.8580214 (1633)\ttotal: 4m 47s\tremaining: 8m 30s\n",
            "Stopped by overfitting detector  (200 iterations wait)\n",
            "\n",
            "bestTest = 0.858021443\n",
            "bestIteration = 1633\n",
            "\n",
            "Shrink model to first 1634 iterations.\n",
            "0:\ttest: 0.8356579\ttest1: 0.8328020\tbest: 0.8328020 (0)\ttotal: 151ms\tremaining: 12m 33s\n",
            "200:\ttest: 0.8562125\ttest1: 0.8503392\tbest: 0.8503392 (200)\ttotal: 32.8s\tremaining: 13m 3s\n",
            "400:\ttest: 0.8584638\ttest1: 0.8520660\tbest: 0.8520660 (400)\ttotal: 1m 4s\tremaining: 12m 21s\n",
            "600:\ttest: 0.8601166\ttest1: 0.8530532\tbest: 0.8530583 (596)\ttotal: 1m 36s\tremaining: 11m 46s\n",
            "800:\ttest: 0.8613628\ttest1: 0.8536037\tbest: 0.8536103 (799)\ttotal: 2m 8s\tremaining: 11m 11s\n",
            "1000:\ttest: 0.8624216\ttest1: 0.8539368\tbest: 0.8539385 (999)\ttotal: 2m 42s\tremaining: 10m 49s\n",
            "1200:\ttest: 0.8633580\ttest1: 0.8541965\tbest: 0.8541965 (1200)\ttotal: 3m 14s\tremaining: 10m 15s\n",
            "1400:\ttest: 0.8641813\ttest1: 0.8543449\tbest: 0.8543575 (1385)\ttotal: 3m 46s\tremaining: 9m 42s\n",
            "1600:\ttest: 0.8649901\ttest1: 0.8543757\tbest: 0.8543794 (1567)\ttotal: 4m 18s\tremaining: 9m 8s\n",
            "1800:\ttest: 0.8657711\ttest1: 0.8544179\tbest: 0.8544494 (1745)\ttotal: 4m 50s\tremaining: 8m 36s\n",
            "2000:\ttest: 0.8665311\ttest1: 0.8545070\tbest: 0.8545339 (1983)\ttotal: 5m 22s\tremaining: 8m 3s\n",
            "2200:\ttest: 0.8672516\ttest1: 0.8545738\tbest: 0.8545829 (2177)\ttotal: 5m 54s\tremaining: 7m 31s\n",
            "2400:\ttest: 0.8679451\ttest1: 0.8546100\tbest: 0.8546167 (2387)\ttotal: 6m 27s\tremaining: 6m 59s\n",
            "2600:\ttest: 0.8686301\ttest1: 0.8545751\tbest: 0.8546271 (2440)\ttotal: 6m 59s\tremaining: 6m 26s\n",
            "Stopped by overfitting detector  (200 iterations wait)\n",
            "\n",
            "bestTest = 0.8546270879\n",
            "bestIteration = 2440\n",
            "\n",
            "Shrink model to first 2441 iterations.\n"
          ],
          "name": "stdout"
        }
      ]
    },
    {
      "cell_type": "code",
      "metadata": {
        "id": "agoqb8WF73xV",
        "colab_type": "code",
        "colab": {}
      },
      "source": [
        "y_train_pred_xgb = model_xgb.predict(train)\n",
        "y_train_pred_rf = model_rf.predict(train)\n",
        "y_train_pred_knn = model_knn.predict(train)\n",
        "y_train_pred_sgd = model_sgd.predict(train)"
      ],
      "execution_count": null,
      "outputs": []
    },
    {
      "cell_type": "code",
      "metadata": {
        "id": "WLj3-kOSF3Rc",
        "colab_type": "code",
        "colab": {}
      },
      "source": [
        "y_train_pred_lgbm = model_lgbm.predict(train)"
      ],
      "execution_count": null,
      "outputs": []
    },
    {
      "cell_type": "code",
      "metadata": {
        "id": "5qNHmKuOcYCn",
        "colab_type": "code",
        "colab": {}
      },
      "source": [
        "y_train_pred_cat = m.predict(train)"
      ],
      "execution_count": null,
      "outputs": []
    },
    {
      "cell_type": "code",
      "metadata": {
        "id": "mAfrqlbS8E4i",
        "colab_type": "code",
        "colab": {
          "base_uri": "https://localhost:8080/",
          "height": 123
        },
        "outputId": "7c6ad5e1-1663-448f-acd5-0ec33af973c3"
      },
      "source": [
        "from sklearn.metrics import accuracy_score\n",
        "\n",
        "accuracy_xgb = accuracy_score(y, y_train_pred_xgb)\n",
        "accuracy_rf = accuracy_score(y, y_train_pred_rf)\n",
        "accuracy_knn = accuracy_score(y, y_train_pred_knn)\n",
        "accuracy_sgd = accuracy_score(y, y_train_pred_sgd)\n",
        "accuracy_lgbm = accuracy_score(y, y_train_pred_lgbm)\n",
        "accuracy_cat = accuracy_score(y, y_train_pred_cat)\n",
        "print(\"Train Accuracy of XGBoost: %.2f%%\" % (accuracy_xgb * 100.0))\n",
        "print(\"Train Accuracy of Random Forest: %.2f%%\" % (accuracy_rf * 100.0))\n",
        "print(\"Train Accuracy of KNN: %.2f%%\" % (accuracy_knn * 100.0))\n",
        "print(\"Train Accuracy of SGDClassifier: %.2f%%\" % (accuracy_sgd * 100.0))\n",
        "print(\"Train Accuracy of LGBMClassifier: %.2f%%\" % (accuracy_lgbm * 100.0))\n",
        "print(\"Train Accuracy of catboost: %.2f%%\" % (accuracy_cat * 100.0))"
      ],
      "execution_count": null,
      "outputs": [
        {
          "output_type": "stream",
          "text": [
            "Train Accuracy of XGBoost: 88.02%\n",
            "Train Accuracy of Random Forest: 95.46%\n",
            "Train Accuracy of KNN: 88.53%\n",
            "Train Accuracy of SGDClassifier: 85.53%\n",
            "Train Accuracy of LGBMClassifier: 87.92%\n",
            "Train Accuracy of catboost: 87.90%\n"
          ],
          "name": "stdout"
        }
      ]
    },
    {
      "cell_type": "markdown",
      "metadata": {
        "id": "Mp3NPMvH8gTb",
        "colab_type": "text"
      },
      "source": [
        "# PreProcessing **Test** Data"
      ]
    },
    {
      "cell_type": "markdown",
      "metadata": {
        "id": "dP9HFlWg9Any",
        "colab_type": "text"
      },
      "source": [
        "\n",
        "\n",
        "1. Importing the **Dataset**  \n",
        "\n",
        "\n"
      ]
    },
    {
      "cell_type": "code",
      "metadata": {
        "id": "DTWNW2Fl8p5r",
        "colab_type": "code",
        "colab": {
          "base_uri": "https://localhost:8080/",
          "height": 197
        },
        "outputId": "75c7b8f7-13ea-48a1-9eb4-ea4a3bf28b95"
      },
      "source": [
        "test = pd.read_csv(path + 'JH (Cross-Sell) test.csv')\n",
        "test.head()"
      ],
      "execution_count": null,
      "outputs": [
        {
          "output_type": "execute_result",
          "data": {
            "text/html": [
              "<div>\n",
              "<style scoped>\n",
              "    .dataframe tbody tr th:only-of-type {\n",
              "        vertical-align: middle;\n",
              "    }\n",
              "\n",
              "    .dataframe tbody tr th {\n",
              "        vertical-align: top;\n",
              "    }\n",
              "\n",
              "    .dataframe thead th {\n",
              "        text-align: right;\n",
              "    }\n",
              "</style>\n",
              "<table border=\"1\" class=\"dataframe\">\n",
              "  <thead>\n",
              "    <tr style=\"text-align: right;\">\n",
              "      <th></th>\n",
              "      <th>id</th>\n",
              "      <th>Gender</th>\n",
              "      <th>Age</th>\n",
              "      <th>Driving_License</th>\n",
              "      <th>Region_Code</th>\n",
              "      <th>Previously_Insured</th>\n",
              "      <th>Vehicle_Age</th>\n",
              "      <th>Vehicle_Damage</th>\n",
              "      <th>Annual_Premium</th>\n",
              "      <th>Policy_Sales_Channel</th>\n",
              "      <th>Vintage</th>\n",
              "    </tr>\n",
              "  </thead>\n",
              "  <tbody>\n",
              "    <tr>\n",
              "      <th>0</th>\n",
              "      <td>381110</td>\n",
              "      <td>Male</td>\n",
              "      <td>25</td>\n",
              "      <td>1</td>\n",
              "      <td>11.0</td>\n",
              "      <td>1</td>\n",
              "      <td>&lt; 1 Year</td>\n",
              "      <td>No</td>\n",
              "      <td>35786.0</td>\n",
              "      <td>152.0</td>\n",
              "      <td>53</td>\n",
              "    </tr>\n",
              "    <tr>\n",
              "      <th>1</th>\n",
              "      <td>381111</td>\n",
              "      <td>Male</td>\n",
              "      <td>40</td>\n",
              "      <td>1</td>\n",
              "      <td>28.0</td>\n",
              "      <td>0</td>\n",
              "      <td>1-2 Year</td>\n",
              "      <td>Yes</td>\n",
              "      <td>33762.0</td>\n",
              "      <td>7.0</td>\n",
              "      <td>111</td>\n",
              "    </tr>\n",
              "    <tr>\n",
              "      <th>2</th>\n",
              "      <td>381112</td>\n",
              "      <td>Male</td>\n",
              "      <td>47</td>\n",
              "      <td>1</td>\n",
              "      <td>28.0</td>\n",
              "      <td>0</td>\n",
              "      <td>1-2 Year</td>\n",
              "      <td>Yes</td>\n",
              "      <td>40050.0</td>\n",
              "      <td>124.0</td>\n",
              "      <td>199</td>\n",
              "    </tr>\n",
              "    <tr>\n",
              "      <th>3</th>\n",
              "      <td>381113</td>\n",
              "      <td>Male</td>\n",
              "      <td>24</td>\n",
              "      <td>1</td>\n",
              "      <td>27.0</td>\n",
              "      <td>1</td>\n",
              "      <td>&lt; 1 Year</td>\n",
              "      <td>Yes</td>\n",
              "      <td>37356.0</td>\n",
              "      <td>152.0</td>\n",
              "      <td>187</td>\n",
              "    </tr>\n",
              "    <tr>\n",
              "      <th>4</th>\n",
              "      <td>381114</td>\n",
              "      <td>Male</td>\n",
              "      <td>27</td>\n",
              "      <td>1</td>\n",
              "      <td>28.0</td>\n",
              "      <td>1</td>\n",
              "      <td>&lt; 1 Year</td>\n",
              "      <td>No</td>\n",
              "      <td>59097.0</td>\n",
              "      <td>152.0</td>\n",
              "      <td>297</td>\n",
              "    </tr>\n",
              "  </tbody>\n",
              "</table>\n",
              "</div>"
            ],
            "text/plain": [
              "       id Gender  Age  ...  Annual_Premium  Policy_Sales_Channel  Vintage\n",
              "0  381110   Male   25  ...         35786.0                 152.0       53\n",
              "1  381111   Male   40  ...         33762.0                   7.0      111\n",
              "2  381112   Male   47  ...         40050.0                 124.0      199\n",
              "3  381113   Male   24  ...         37356.0                 152.0      187\n",
              "4  381114   Male   27  ...         59097.0                 152.0      297\n",
              "\n",
              "[5 rows x 11 columns]"
            ]
          },
          "metadata": {
            "tags": []
          },
          "execution_count": 25
        }
      ]
    },
    {
      "cell_type": "markdown",
      "metadata": {
        "id": "y4Sc3hxW9N6M",
        "colab_type": "text"
      },
      "source": [
        "\n",
        "2.   Checking for **Null** Values\n",
        "\n",
        "\n"
      ]
    },
    {
      "cell_type": "code",
      "metadata": {
        "id": "dE9O_MLQ9cQh",
        "colab_type": "code",
        "colab": {
          "base_uri": "https://localhost:8080/",
          "height": 230
        },
        "outputId": "1eca95bc-0ed2-4bfb-8def-195be169145a"
      },
      "source": [
        "test.isnull().sum()"
      ],
      "execution_count": null,
      "outputs": [
        {
          "output_type": "execute_result",
          "data": {
            "text/plain": [
              "id                      0\n",
              "Gender                  0\n",
              "Age                     0\n",
              "Driving_License         0\n",
              "Region_Code             0\n",
              "Previously_Insured      0\n",
              "Vehicle_Age             0\n",
              "Vehicle_Damage          0\n",
              "Annual_Premium          0\n",
              "Policy_Sales_Channel    0\n",
              "Vintage                 0\n",
              "dtype: int64"
            ]
          },
          "metadata": {
            "tags": []
          },
          "execution_count": 26
        }
      ]
    },
    {
      "cell_type": "markdown",
      "metadata": {
        "id": "otmo1_oF-dbl",
        "colab_type": "text"
      },
      "source": [
        "3. Dropping **unwanted** columns"
      ]
    },
    {
      "cell_type": "code",
      "metadata": {
        "id": "YzsKBKwR-iLh",
        "colab_type": "code",
        "colab": {
          "base_uri": "https://localhost:8080/",
          "height": 197
        },
        "outputId": "8233e570-3f3c-455c-c2d2-a9f191769c8e"
      },
      "source": [
        "id = test[\"id\"]\n",
        "test = test.drop(columns= ['id'])\n",
        "test.head()"
      ],
      "execution_count": null,
      "outputs": [
        {
          "output_type": "execute_result",
          "data": {
            "text/html": [
              "<div>\n",
              "<style scoped>\n",
              "    .dataframe tbody tr th:only-of-type {\n",
              "        vertical-align: middle;\n",
              "    }\n",
              "\n",
              "    .dataframe tbody tr th {\n",
              "        vertical-align: top;\n",
              "    }\n",
              "\n",
              "    .dataframe thead th {\n",
              "        text-align: right;\n",
              "    }\n",
              "</style>\n",
              "<table border=\"1\" class=\"dataframe\">\n",
              "  <thead>\n",
              "    <tr style=\"text-align: right;\">\n",
              "      <th></th>\n",
              "      <th>Gender</th>\n",
              "      <th>Age</th>\n",
              "      <th>Driving_License</th>\n",
              "      <th>Region_Code</th>\n",
              "      <th>Previously_Insured</th>\n",
              "      <th>Vehicle_Age</th>\n",
              "      <th>Vehicle_Damage</th>\n",
              "      <th>Annual_Premium</th>\n",
              "      <th>Policy_Sales_Channel</th>\n",
              "      <th>Vintage</th>\n",
              "    </tr>\n",
              "  </thead>\n",
              "  <tbody>\n",
              "    <tr>\n",
              "      <th>0</th>\n",
              "      <td>Male</td>\n",
              "      <td>25</td>\n",
              "      <td>1</td>\n",
              "      <td>11.0</td>\n",
              "      <td>1</td>\n",
              "      <td>&lt; 1 Year</td>\n",
              "      <td>No</td>\n",
              "      <td>35786.0</td>\n",
              "      <td>152.0</td>\n",
              "      <td>53</td>\n",
              "    </tr>\n",
              "    <tr>\n",
              "      <th>1</th>\n",
              "      <td>Male</td>\n",
              "      <td>40</td>\n",
              "      <td>1</td>\n",
              "      <td>28.0</td>\n",
              "      <td>0</td>\n",
              "      <td>1-2 Year</td>\n",
              "      <td>Yes</td>\n",
              "      <td>33762.0</td>\n",
              "      <td>7.0</td>\n",
              "      <td>111</td>\n",
              "    </tr>\n",
              "    <tr>\n",
              "      <th>2</th>\n",
              "      <td>Male</td>\n",
              "      <td>47</td>\n",
              "      <td>1</td>\n",
              "      <td>28.0</td>\n",
              "      <td>0</td>\n",
              "      <td>1-2 Year</td>\n",
              "      <td>Yes</td>\n",
              "      <td>40050.0</td>\n",
              "      <td>124.0</td>\n",
              "      <td>199</td>\n",
              "    </tr>\n",
              "    <tr>\n",
              "      <th>3</th>\n",
              "      <td>Male</td>\n",
              "      <td>24</td>\n",
              "      <td>1</td>\n",
              "      <td>27.0</td>\n",
              "      <td>1</td>\n",
              "      <td>&lt; 1 Year</td>\n",
              "      <td>Yes</td>\n",
              "      <td>37356.0</td>\n",
              "      <td>152.0</td>\n",
              "      <td>187</td>\n",
              "    </tr>\n",
              "    <tr>\n",
              "      <th>4</th>\n",
              "      <td>Male</td>\n",
              "      <td>27</td>\n",
              "      <td>1</td>\n",
              "      <td>28.0</td>\n",
              "      <td>1</td>\n",
              "      <td>&lt; 1 Year</td>\n",
              "      <td>No</td>\n",
              "      <td>59097.0</td>\n",
              "      <td>152.0</td>\n",
              "      <td>297</td>\n",
              "    </tr>\n",
              "  </tbody>\n",
              "</table>\n",
              "</div>"
            ],
            "text/plain": [
              "  Gender  Age  Driving_License  ...  Annual_Premium  Policy_Sales_Channel Vintage\n",
              "0   Male   25                1  ...         35786.0                 152.0      53\n",
              "1   Male   40                1  ...         33762.0                   7.0     111\n",
              "2   Male   47                1  ...         40050.0                 124.0     199\n",
              "3   Male   24                1  ...         37356.0                 152.0     187\n",
              "4   Male   27                1  ...         59097.0                 152.0     297\n",
              "\n",
              "[5 rows x 10 columns]"
            ]
          },
          "metadata": {
            "tags": []
          },
          "execution_count": 27
        }
      ]
    },
    {
      "cell_type": "markdown",
      "metadata": {
        "id": "qJkhS1DJ-Hu3",
        "colab_type": "text"
      },
      "source": [
        "4. Using the **same Label Encoders** from the train data in the test data"
      ]
    },
    {
      "cell_type": "code",
      "metadata": {
        "id": "BFXoIe6I-VAr",
        "colab_type": "code",
        "colab": {}
      },
      "source": [
        "test[\"Gender\"] = lbg.fit_transform(test[\"Gender\"])"
      ],
      "execution_count": null,
      "outputs": []
    },
    {
      "cell_type": "code",
      "metadata": {
        "id": "02Ce_ckK-6EX",
        "colab_type": "code",
        "colab": {}
      },
      "source": [
        "test[\"Vehicle_Age\"] = lbva.fit_transform(test[\"Vehicle_Age\"])"
      ],
      "execution_count": null,
      "outputs": []
    },
    {
      "cell_type": "code",
      "metadata": {
        "id": "L8BkNE4M_BKv",
        "colab_type": "code",
        "colab": {}
      },
      "source": [
        "test[\"Vehicle_Damage\"] = lbvd.fit_transform(test[\"Vehicle_Damage\"])"
      ],
      "execution_count": null,
      "outputs": []
    },
    {
      "cell_type": "code",
      "metadata": {
        "id": "bqYdbJJJ_JTd",
        "colab_type": "code",
        "colab": {
          "base_uri": "https://localhost:8080/",
          "height": 197
        },
        "outputId": "1be62ae1-7361-4aee-934b-f20141812866"
      },
      "source": [
        "test.head()"
      ],
      "execution_count": null,
      "outputs": [
        {
          "output_type": "execute_result",
          "data": {
            "text/html": [
              "<div>\n",
              "<style scoped>\n",
              "    .dataframe tbody tr th:only-of-type {\n",
              "        vertical-align: middle;\n",
              "    }\n",
              "\n",
              "    .dataframe tbody tr th {\n",
              "        vertical-align: top;\n",
              "    }\n",
              "\n",
              "    .dataframe thead th {\n",
              "        text-align: right;\n",
              "    }\n",
              "</style>\n",
              "<table border=\"1\" class=\"dataframe\">\n",
              "  <thead>\n",
              "    <tr style=\"text-align: right;\">\n",
              "      <th></th>\n",
              "      <th>Gender</th>\n",
              "      <th>Age</th>\n",
              "      <th>Driving_License</th>\n",
              "      <th>Region_Code</th>\n",
              "      <th>Previously_Insured</th>\n",
              "      <th>Vehicle_Age</th>\n",
              "      <th>Vehicle_Damage</th>\n",
              "      <th>Annual_Premium</th>\n",
              "      <th>Policy_Sales_Channel</th>\n",
              "      <th>Vintage</th>\n",
              "    </tr>\n",
              "  </thead>\n",
              "  <tbody>\n",
              "    <tr>\n",
              "      <th>0</th>\n",
              "      <td>1</td>\n",
              "      <td>25</td>\n",
              "      <td>1</td>\n",
              "      <td>11.0</td>\n",
              "      <td>1</td>\n",
              "      <td>1</td>\n",
              "      <td>0</td>\n",
              "      <td>35786.0</td>\n",
              "      <td>152.0</td>\n",
              "      <td>53</td>\n",
              "    </tr>\n",
              "    <tr>\n",
              "      <th>1</th>\n",
              "      <td>1</td>\n",
              "      <td>40</td>\n",
              "      <td>1</td>\n",
              "      <td>28.0</td>\n",
              "      <td>0</td>\n",
              "      <td>0</td>\n",
              "      <td>1</td>\n",
              "      <td>33762.0</td>\n",
              "      <td>7.0</td>\n",
              "      <td>111</td>\n",
              "    </tr>\n",
              "    <tr>\n",
              "      <th>2</th>\n",
              "      <td>1</td>\n",
              "      <td>47</td>\n",
              "      <td>1</td>\n",
              "      <td>28.0</td>\n",
              "      <td>0</td>\n",
              "      <td>0</td>\n",
              "      <td>1</td>\n",
              "      <td>40050.0</td>\n",
              "      <td>124.0</td>\n",
              "      <td>199</td>\n",
              "    </tr>\n",
              "    <tr>\n",
              "      <th>3</th>\n",
              "      <td>1</td>\n",
              "      <td>24</td>\n",
              "      <td>1</td>\n",
              "      <td>27.0</td>\n",
              "      <td>1</td>\n",
              "      <td>1</td>\n",
              "      <td>1</td>\n",
              "      <td>37356.0</td>\n",
              "      <td>152.0</td>\n",
              "      <td>187</td>\n",
              "    </tr>\n",
              "    <tr>\n",
              "      <th>4</th>\n",
              "      <td>1</td>\n",
              "      <td>27</td>\n",
              "      <td>1</td>\n",
              "      <td>28.0</td>\n",
              "      <td>1</td>\n",
              "      <td>1</td>\n",
              "      <td>0</td>\n",
              "      <td>59097.0</td>\n",
              "      <td>152.0</td>\n",
              "      <td>297</td>\n",
              "    </tr>\n",
              "  </tbody>\n",
              "</table>\n",
              "</div>"
            ],
            "text/plain": [
              "   Gender  Age  Driving_License  ...  Annual_Premium  Policy_Sales_Channel  Vintage\n",
              "0       1   25                1  ...         35786.0                 152.0       53\n",
              "1       1   40                1  ...         33762.0                   7.0      111\n",
              "2       1   47                1  ...         40050.0                 124.0      199\n",
              "3       1   24                1  ...         37356.0                 152.0      187\n",
              "4       1   27                1  ...         59097.0                 152.0      297\n",
              "\n",
              "[5 rows x 10 columns]"
            ]
          },
          "metadata": {
            "tags": []
          },
          "execution_count": 31
        }
      ]
    },
    {
      "cell_type": "markdown",
      "metadata": {
        "id": "9qotMmeD_Oq_",
        "colab_type": "text"
      },
      "source": [
        "5. Using the **Trained XGBoost Model** from above to predict the test data"
      ]
    },
    {
      "cell_type": "code",
      "metadata": {
        "id": "gYp6sMjS_XnS",
        "colab_type": "code",
        "colab": {}
      },
      "source": [
        "predictions_xgb = model_xgb.predict(test)\n",
        "predictions_rf = model_rf.predict(test)\n",
        "predictions_knn = model_knn.predict(test)\n",
        "predictions_sgd = model_sgd.predict(test)"
      ],
      "execution_count": null,
      "outputs": []
    },
    {
      "cell_type": "code",
      "metadata": {
        "id": "dOWys0WOGIFT",
        "colab_type": "code",
        "colab": {}
      },
      "source": [
        "predictions_lgbm = model_lgbm.predict(test)"
      ],
      "execution_count": null,
      "outputs": []
    },
    {
      "cell_type": "code",
      "metadata": {
        "id": "k_PfWnj9cs6t",
        "colab_type": "code",
        "colab": {}
      },
      "source": [
        "predictions_cat = m.predict(test)"
      ],
      "execution_count": null,
      "outputs": []
    },
    {
      "cell_type": "markdown",
      "metadata": {
        "id": "cIvmNrQCCVA4",
        "colab_type": "text"
      },
      "source": [
        "6. Converting the `numpy.ndarray` into a `pandas.DataFrame` format for **easy data handling**\n"
      ]
    },
    {
      "cell_type": "code",
      "metadata": {
        "id": "-6F5rh4DCRVo",
        "colab_type": "code",
        "colab": {
          "base_uri": "https://localhost:8080/",
          "height": 197
        },
        "outputId": "8418377c-af4c-4463-8479-9ae293e8d788"
      },
      "source": [
        "predictions_dataframe = pd.DataFrame(predictions_cat, columns = [\"Response\"], index=None)\n",
        "predictions_dataframe.head()"
      ],
      "execution_count": null,
      "outputs": [
        {
          "output_type": "execute_result",
          "data": {
            "text/html": [
              "<div>\n",
              "<style scoped>\n",
              "    .dataframe tbody tr th:only-of-type {\n",
              "        vertical-align: middle;\n",
              "    }\n",
              "\n",
              "    .dataframe tbody tr th {\n",
              "        vertical-align: top;\n",
              "    }\n",
              "\n",
              "    .dataframe thead th {\n",
              "        text-align: right;\n",
              "    }\n",
              "</style>\n",
              "<table border=\"1\" class=\"dataframe\">\n",
              "  <thead>\n",
              "    <tr style=\"text-align: right;\">\n",
              "      <th></th>\n",
              "      <th>Response</th>\n",
              "    </tr>\n",
              "  </thead>\n",
              "  <tbody>\n",
              "    <tr>\n",
              "      <th>0</th>\n",
              "      <td>0</td>\n",
              "    </tr>\n",
              "    <tr>\n",
              "      <th>1</th>\n",
              "      <td>0</td>\n",
              "    </tr>\n",
              "    <tr>\n",
              "      <th>2</th>\n",
              "      <td>0</td>\n",
              "    </tr>\n",
              "    <tr>\n",
              "      <th>3</th>\n",
              "      <td>0</td>\n",
              "    </tr>\n",
              "    <tr>\n",
              "      <th>4</th>\n",
              "      <td>0</td>\n",
              "    </tr>\n",
              "  </tbody>\n",
              "</table>\n",
              "</div>"
            ],
            "text/plain": [
              "   Response\n",
              "0         0\n",
              "1         0\n",
              "2         0\n",
              "3         0\n",
              "4         0"
            ]
          },
          "metadata": {
            "tags": []
          },
          "execution_count": 43
        }
      ]
    },
    {
      "cell_type": "markdown",
      "metadata": {
        "id": "455ZMRAUCmHT",
        "colab_type": "text"
      },
      "source": [
        "7. Concatenating the **\"id\"** Column into the predictions for final submission"
      ]
    },
    {
      "cell_type": "code",
      "metadata": {
        "id": "Egc3izdQAuYU",
        "colab_type": "code",
        "colab": {
          "base_uri": "https://localhost:8080/",
          "height": 197
        },
        "outputId": "257caee9-d152-4682-b7ca-5f41dd20ffef"
      },
      "source": [
        "final = pd.concat([id, predictions_dataframe], axis=1)\n",
        "final.head()"
      ],
      "execution_count": null,
      "outputs": [
        {
          "output_type": "execute_result",
          "data": {
            "text/html": [
              "<div>\n",
              "<style scoped>\n",
              "    .dataframe tbody tr th:only-of-type {\n",
              "        vertical-align: middle;\n",
              "    }\n",
              "\n",
              "    .dataframe tbody tr th {\n",
              "        vertical-align: top;\n",
              "    }\n",
              "\n",
              "    .dataframe thead th {\n",
              "        text-align: right;\n",
              "    }\n",
              "</style>\n",
              "<table border=\"1\" class=\"dataframe\">\n",
              "  <thead>\n",
              "    <tr style=\"text-align: right;\">\n",
              "      <th></th>\n",
              "      <th>id</th>\n",
              "      <th>Response</th>\n",
              "    </tr>\n",
              "  </thead>\n",
              "  <tbody>\n",
              "    <tr>\n",
              "      <th>0</th>\n",
              "      <td>381110</td>\n",
              "      <td>0</td>\n",
              "    </tr>\n",
              "    <tr>\n",
              "      <th>1</th>\n",
              "      <td>381111</td>\n",
              "      <td>0</td>\n",
              "    </tr>\n",
              "    <tr>\n",
              "      <th>2</th>\n",
              "      <td>381112</td>\n",
              "      <td>0</td>\n",
              "    </tr>\n",
              "    <tr>\n",
              "      <th>3</th>\n",
              "      <td>381113</td>\n",
              "      <td>0</td>\n",
              "    </tr>\n",
              "    <tr>\n",
              "      <th>4</th>\n",
              "      <td>381114</td>\n",
              "      <td>0</td>\n",
              "    </tr>\n",
              "  </tbody>\n",
              "</table>\n",
              "</div>"
            ],
            "text/plain": [
              "       id  Response\n",
              "0  381110         0\n",
              "1  381111         0\n",
              "2  381112         0\n",
              "3  381113         0\n",
              "4  381114         0"
            ]
          },
          "metadata": {
            "tags": []
          },
          "execution_count": 44
        }
      ]
    },
    {
      "cell_type": "code",
      "metadata": {
        "id": "UKy_HnZFlDo0",
        "colab_type": "code",
        "colab": {
          "base_uri": "https://localhost:8080/",
          "height": 436
        },
        "outputId": "44608b5a-05fb-4e6b-9523-ec9e4d23e06e"
      },
      "source": [
        "final.set_index(\"id\")"
      ],
      "execution_count": null,
      "outputs": [
        {
          "output_type": "execute_result",
          "data": {
            "text/html": [
              "<div>\n",
              "<style scoped>\n",
              "    .dataframe tbody tr th:only-of-type {\n",
              "        vertical-align: middle;\n",
              "    }\n",
              "\n",
              "    .dataframe tbody tr th {\n",
              "        vertical-align: top;\n",
              "    }\n",
              "\n",
              "    .dataframe thead th {\n",
              "        text-align: right;\n",
              "    }\n",
              "</style>\n",
              "<table border=\"1\" class=\"dataframe\">\n",
              "  <thead>\n",
              "    <tr style=\"text-align: right;\">\n",
              "      <th></th>\n",
              "      <th>Response</th>\n",
              "    </tr>\n",
              "    <tr>\n",
              "      <th>id</th>\n",
              "      <th></th>\n",
              "    </tr>\n",
              "  </thead>\n",
              "  <tbody>\n",
              "    <tr>\n",
              "      <th>381110</th>\n",
              "      <td>0</td>\n",
              "    </tr>\n",
              "    <tr>\n",
              "      <th>381111</th>\n",
              "      <td>0</td>\n",
              "    </tr>\n",
              "    <tr>\n",
              "      <th>381112</th>\n",
              "      <td>0</td>\n",
              "    </tr>\n",
              "    <tr>\n",
              "      <th>381113</th>\n",
              "      <td>0</td>\n",
              "    </tr>\n",
              "    <tr>\n",
              "      <th>381114</th>\n",
              "      <td>0</td>\n",
              "    </tr>\n",
              "    <tr>\n",
              "      <th>...</th>\n",
              "      <td>...</td>\n",
              "    </tr>\n",
              "    <tr>\n",
              "      <th>508142</th>\n",
              "      <td>0</td>\n",
              "    </tr>\n",
              "    <tr>\n",
              "      <th>508143</th>\n",
              "      <td>0</td>\n",
              "    </tr>\n",
              "    <tr>\n",
              "      <th>508144</th>\n",
              "      <td>0</td>\n",
              "    </tr>\n",
              "    <tr>\n",
              "      <th>508145</th>\n",
              "      <td>0</td>\n",
              "    </tr>\n",
              "    <tr>\n",
              "      <th>508146</th>\n",
              "      <td>0</td>\n",
              "    </tr>\n",
              "  </tbody>\n",
              "</table>\n",
              "<p>127037 rows × 1 columns</p>\n",
              "</div>"
            ],
            "text/plain": [
              "        Response\n",
              "id              \n",
              "381110         0\n",
              "381111         0\n",
              "381112         0\n",
              "381113         0\n",
              "381114         0\n",
              "...          ...\n",
              "508142         0\n",
              "508143         0\n",
              "508144         0\n",
              "508145         0\n",
              "508146         0\n",
              "\n",
              "[127037 rows x 1 columns]"
            ]
          },
          "metadata": {
            "tags": []
          },
          "execution_count": 45
        }
      ]
    },
    {
      "cell_type": "markdown",
      "metadata": {
        "id": "mJiWAx3nDFff",
        "colab_type": "text"
      },
      "source": [
        "8. Exporting the **\"final\"** dataset out for submission"
      ]
    },
    {
      "cell_type": "code",
      "metadata": {
        "id": "YyuOhIKeDQVc",
        "colab_type": "code",
        "colab": {}
      },
      "source": [
        "final.to_csv(\"JH Cross-Sell catbooster Predictions.csv\")"
      ],
      "execution_count": null,
      "outputs": []
    },
    {
      "cell_type": "code",
      "metadata": {
        "id": "NP3lzuqrEM4W",
        "colab_type": "code",
        "colab": {}
      },
      "source": [
        "from xgboost import plot_importance\n",
        "\n",
        "def plot_features(booster, figsize):    \n",
        "    fig, ax = plt.subplots(1,1,figsize=figsize)\n",
        "    return plot_importance(booster=booster, ax=ax)\n"
      ],
      "execution_count": null,
      "outputs": []
    },
    {
      "cell_type": "code",
      "metadata": {
        "id": "4uAPDYaNEOEG",
        "colab_type": "code",
        "colab": {
          "base_uri": "https://localhost:8080/",
          "height": 856
        },
        "outputId": "deb5668b-34de-4c12-bcee-34780a51d37f"
      },
      "source": [
        "plot_features(model_xgb, (10, 14))"
      ],
      "execution_count": null,
      "outputs": [
        {
          "output_type": "execute_result",
          "data": {
            "text/plain": [
              "<matplotlib.axes._subplots.AxesSubplot at 0x7fc3cb55afd0>"
            ]
          },
          "metadata": {
            "tags": []
          },
          "execution_count": 39
        },
        {
          "output_type": "display_data",
          "data": {
            "image/png": "[encoded data removed]",
            "text/plain": [
              "<Figure size 720x1008 with 1 Axes>"
            ]
          },
          "metadata": {
            "tags": [],
            "needs_background": "light"
          }
        }
      ]
    },
    {
      "cell_type": "code",
      "metadata": {
        "id": "SSB3nwUqEfdb",
        "colab_type": "code",
        "colab": {}
      },
      "source": [
        ""
      ],
      "execution_count": null,
      "outputs": []
    }
  ]
}